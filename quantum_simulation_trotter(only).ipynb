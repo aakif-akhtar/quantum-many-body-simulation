{
  "nbformat": 4,
  "nbformat_minor": 0,
  "metadata": {
    "kernelspec": {
      "display_name": "Python 3",
      "language": "python",
      "name": "python3"
    },
    "language_info": {
      "codemirror_mode": {
        "name": "ipython",
        "version": 3
      },
      "file_extension": ".py",
      "mimetype": "text/x-python",
      "name": "python",
      "nbconvert_exporter": "python",
      "pygments_lexer": "ipython3",
      "version": "3.8.10"
    },
    "colab": {
      "name": "quantum_simulation_trotter(only).ipynb",
      "provenance": []
    }
  },
  "cells": [
    {
      "cell_type": "code",
      "metadata": {
        "id": "aBQ5TIkryLyY"
      },
      "source": [
        "!pip install qiskit"
      ],
      "execution_count": null,
      "outputs": []
    },
    {
      "cell_type": "code",
      "metadata": {
        "colab": {
          "base_uri": "https://localhost:8080/"
        },
        "id": "-40x8UEmy4ig",
        "outputId": "6f5b6668-4f56-4233-8518-2b173e495e21"
      },
      "source": [
        "import qiskit\n",
        "# Enable your account on Qiskit, replace 'My_API_Token' with your newly generated token\n",
        "qiskit.IBMQ.save_account('ac05e244cf4e53e3842a230becc884bcd7395d0ebc42484e158085d7f8e6db097e404e65eea81c45dce182e8884414201434a248566c9ad7f30d8fb5629b4ceb')\n",
        "qiskit.IBMQ.load_account()\n",
        "\n",
        "\n",
        "\n",
        "# After loading credentials we query the backends\n",
        "# qiskit.IBMQ.backend()"
      ],
      "execution_count": null,
      "outputs": [
        {
          "output_type": "execute_result",
          "data": {
            "text/plain": [
              "<AccountProvider for IBMQ(hub='ibm-q', group='open', project='main')>"
            ]
          },
          "metadata": {
            "tags": []
          },
          "execution_count": 2
        }
      ]
    },
    {
      "cell_type": "code",
      "metadata": {
        "colab": {
          "base_uri": "https://localhost:8080/"
        },
        "id": "W4OLfnlAaJQh",
        "outputId": "b36e2e47-af6e-4e53-d7a0-a6eb86af1ee0"
      },
      "source": [
        "%matplotlib inline\n",
        "# Importing standard Qiskit libraries and configuring account\n",
        "from qiskit import QuantumCircuit, execute, Aer, IBMQ\n",
        "from qiskit.compiler import transpile, assemble\n",
        "from qiskit.tools.jupyter import *\n",
        "from qiskit.visualization import *\n",
        "# Loading your IBM Q account(s)\n",
        "provider = IBMQ.load_account()\n",
        "# svism = Aer.get_backend('statevector_simulator')\n",
        "# backend = 'simulator_statevetor'\n",
        "# backend"
      ],
      "execution_count": null,
      "outputs": [
        {
          "output_type": "stream",
          "text": [
            "ibmqfactory.load_account:WARNING:2021-07-18 04:17:27,116: Credentials are already in use. The existing account in the session will be replaced.\n"
          ],
          "name": "stderr"
        }
      ]
    },
    {
      "cell_type": "code",
      "metadata": {
        "id": "I9s2LEz5aJQi"
      },
      "source": [
        "from qiskit import QuantumRegister, ClassicalRegister, QuantumCircuit\n",
        "from qiskit.quantum_info.operators import Operator, Pauli\n",
        "from qiskit.extensions import RXGate, XGate, CXGate, ZGate, IGate\n",
        "\n",
        "from numpy import pi, sqrt\n",
        "import numpy as np\n",
        "import matplotlib.pyplot as plt"
      ],
      "execution_count": null,
      "outputs": []
    },
    {
      "cell_type": "code",
      "metadata": {
        "id": "i63BjWC4aJQp"
      },
      "source": [
        "from qiskit import Aer\n",
        "from qiskit.providers.aer import AerSimulator\n",
        "\n",
        "backend = Aer.get_backend('qasm_simulator')"
      ],
      "execution_count": null,
      "outputs": []
    },
    {
      "cell_type": "code",
      "metadata": {
        "id": "CGjFyOa8Csem"
      },
      "source": [
        "from qiskit.test.mock import FakeRueschlikon, FakeTokyo\n",
        "device_backend = FakeTokyo()\n",
        "device_backend_2 = FakeRueschlikon()\n"
      ],
      "execution_count": null,
      "outputs": []
    },
    {
      "cell_type": "code",
      "metadata": {
        "id": "xK57PgdyCvCj"
      },
      "source": [
        "backend = AerSimulator.from_backend(device_backend)"
      ],
      "execution_count": null,
      "outputs": []
    },
    {
      "cell_type": "code",
      "metadata": {
        "id": "ErbSdRCYaJQi"
      },
      "source": [
        "num_qubits = 4\n",
        "\n",
        "qreg_q = QuantumRegister(num_qubits, 'q')\n",
        "creg_c = ClassicalRegister(1, 'c')\n",
        "  \n",
        "def circuit_1():\n",
        "    \n",
        "  #Defining Registers for Suzuki-Trotter Simulation\n",
        "  circuit = QuantumCircuit(qreg_q, creg_c)\n",
        "  return circuit\n"
      ],
      "execution_count": null,
      "outputs": []
    },
    {
      "cell_type": "code",
      "metadata": {
        "id": "N0kC_LMhaJQj"
      },
      "source": [
        "#Domain-Wall State preparation\n",
        "def domain_wall_state(circuit, num_qubits):\n",
        "    for i in range(int(num_qubits/2)):\n",
        "        circuit.x(qreg_q[i])\n",
        "    return circuit\n",
        "#Neel-State Prepapration\n",
        "def neel_state_preparation(circuit, num_qubits):\n",
        "    for i in range(num_qubits):\n",
        "        if i%2 == 0:\n",
        "            circuit.x(qreg_q[i])\n",
        "    return circuit"
      ],
      "execution_count": null,
      "outputs": []
    },
    {
      "cell_type": "code",
      "metadata": {
        "colab": {
          "base_uri": "https://localhost:8080/"
        },
        "id": "yuRUbKFraJQj",
        "outputId": "928a25f2-e6e1-4492-ac9c-f9154a9e6827"
      },
      "source": [
        "#Magnetization operator\n",
        "magnetization = Operator(ZGate())\n",
        "print('magnetization operator:\\n',magnetization.data)\n",
        "\n",
        "#N_half operator\n",
        "n_half = np.add(0.5*Operator(ZGate()).data,0.5*Operator(IGate()).data)\n",
        "print('\\nn_half operator:\\n',n_half)\n",
        "\n",
        "#spin-correlator operator\n"
      ],
      "execution_count": null,
      "outputs": [
        {
          "output_type": "stream",
          "text": [
            "magnetization operator:\n",
            " [[ 1.+0.j  0.+0.j]\n",
            " [ 0.+0.j -1.+0.j]]\n",
            "\n",
            "n_half operator:\n",
            " [[1.+0.j 0.+0.j]\n",
            " [0.+0.j 0.+0.j]]\n"
          ],
          "name": "stdout"
        }
      ]
    },
    {
      "cell_type": "code",
      "metadata": {
        "id": "xL3ibz5VaJQl"
      },
      "source": [
        "#XX-chain parameter U = 0 and h = 0 non-interacting molecule\n",
        "def XX_chain_parameters():\n",
        "    range_J = 10\n",
        "    U = 0.0\n",
        "    h = 0.0\n",
        "    J = np.array([i for i in range(range_J)])\n",
        "    return (J,U,h)\n",
        "# print(XX_chain_parameters())\n",
        "##Disordered XX-chain U=0 and h = [-h,h](randomly sampled from this set)\n",
        "def XX_disorder_chain_parameters():\n",
        "    range_J = 10\n",
        "    U = 0.0\n",
        "    # h = np.concatenate((np.random.random_sample((5,))-1,np.random.random_sample((5,))), axis = None)\n",
        "    h= 2.\n",
        "    J = np.array([i+1 for i in range(range_J)])\n",
        "    return (J,U,h)\n",
        "#XXZ-spin chain  case of Hisenberg model for quantum magnetism\n",
        "# U != 0 , h = 0\n",
        "def XXZ_spin_chain_parameters():\n",
        "    range_J = 10\n",
        "    range_U = 5\n",
        "    h = 0.0\n",
        "    J = np.array([i for i in range(range_J)])\n",
        "    U = [0.,0.5,1.,1.5,2.0]\n",
        "    return (J,U,h)\n",
        "#XXZ- chain with linear potential U>=0, h = h*j\n",
        "def XXZ_chain_potential_parameters(num_qubits,j):\n",
        "    range_J = 10\n",
        "    range_U = 5\n",
        "    J = np.array([i for i in range(range_J)])\n",
        "    U = [0.,0.2,0.4,0.6,0.8]\n",
        "    h = 1.5\n",
        "    \n",
        "    h = h*(j+1)\n",
        "    \n",
        "    return (J,U,h)"
      ],
      "execution_count": null,
      "outputs": []
    },
    {
      "cell_type": "code",
      "metadata": {
        "colab": {
          "base_uri": "https://localhost:8080/"
        },
        "id": "20tMGyZxYDlx",
        "outputId": "e7e7d3c1-3a22-479b-e0a4-9611d1363b95"
      },
      "source": [
        "XXZ_spin_chain_parameters()"
      ],
      "execution_count": null,
      "outputs": [
        {
          "output_type": "execute_result",
          "data": {
            "text/plain": [
              "(array([0, 1, 2, 3, 4, 5, 6, 7, 8, 9]), [0.0, 0.5, 1.0, 1.5, 2.0], 0.0)"
            ]
          },
          "metadata": {
            "tags": []
          },
          "execution_count": 68
        }
      ]
    },
    {
      "cell_type": "code",
      "metadata": {
        "id": "5wH5BZrtaJQl"
      },
      "source": [
        "\n",
        "def circuit_a_j(circuit,qubit_index, h, time):\n",
        "    circuit.barrier()\n",
        "    circuit.rz((h*time)/2,qreg_q[qubit_index])\n",
        "    circuit.barrier()\n",
        "    return circuit\n",
        "def circuit_b_j(circuit, qubit_index, U, J, time ):\n",
        "    #circuit for sigma_zz\n",
        "    circuit.barrier()\n",
        "    circuit.cx(qreg_q[qubit_index], qreg_q[qubit_index+1])\n",
        "    circuit.rz((U*time)/2, qreg_q[qubit_index+1])\n",
        "    circuit.cx(qreg_q[qubit_index],qreg_q[qubit_index+1])\n",
        "    circuit.barrier()\n",
        "    #circuit for sigma_yy\n",
        "    circuit.cx(qreg_q[qubit_index], qreg_q[qubit_index+1])\n",
        "    circuit.cu3((J*time)/2, -pi/2, pi/2, qreg_q[qubit_index+1], qreg_q[qubit_index] )\n",
        "    circuit.x(qreg_q[qubit_index+1] )\n",
        "    circuit.cu3((J*time)/2, pi/2, -pi/2, qreg_q[qubit_index+1], qreg_q[qubit_index])\n",
        "    circuit.x(qreg_q[qubit_index+1] )\n",
        "    circuit.cx(qreg_q[qubit_index], qreg_q[qubit_index+1] )\n",
        "    #circuit for sigma_xx\n",
        "    circuit.barrier()\n",
        "    circuit.cx(qreg_q[qubit_index], qreg_q[qubit_index+1])\n",
        "    circuit.u3((-J*time)/2, -pi/2, pi/2, qreg_q[qubit_index])\n",
        "    circuit.cx(qreg_q[qubit_index], qreg_q[qubit_index+1])\n",
        "    circuit.barrier()\n",
        "    return circuit\n",
        "def circuit_c_j(circuit, qubit_index, U, J, time):\n",
        "    #circuit for sigma_zz\n",
        "    circuit.barrier()\n",
        "    circuit.cx(qreg_q[qubit_index], qreg_q[qubit_index+1])\n",
        "    circuit.rz((U*time), qreg_q[qubit_index+1])\n",
        "    circuit.cx(qreg_q[qubit_index],qreg_q[qubit_index+1])\n",
        "    circuit.barrier()\n",
        "    #circuit for sigma_yy\n",
        "    circuit.cx(qreg_q[qubit_index], qreg_q[qubit_index+1])\n",
        "    circuit.cu3((J*time), -pi/2, pi/2, qreg_q[qubit_index+1], qreg_q[qubit_index] )\n",
        "    circuit.x(qreg_q[qubit_index+1] )\n",
        "    circuit.cu3((J*time), pi/2, -pi/2, qreg_q[qubit_index+1], qreg_q[qubit_index])\n",
        "    circuit.x(qreg_q[qubit_index+1] )\n",
        "    circuit.cx(qreg_q[qubit_index], qreg_q[qubit_index+1] )\n",
        "    #circuit for sigma_xx\n",
        "    circuit.barrier()\n",
        "    circuit.cx(qreg_q[qubit_index], qreg_q[qubit_index+1])\n",
        "    circuit.u3((-J*time), -pi/2, pi/2, qreg_q[qubit_index])\n",
        "    circuit.cx(qreg_q[qubit_index], qreg_q[qubit_index+1])\n",
        "    circuit.barrier()\n",
        "    return circuit\n",
        "\n",
        "# circuit.draw('mpl')"
      ],
      "execution_count": null,
      "outputs": []
    },
    {
      "cell_type": "code",
      "metadata": {
        "id": "wDNCnj2BaJQm"
      },
      "source": [
        "def circuit_for_magnetization(circuit, time, step, num_qubits):\n",
        "    for j in range(step):\n",
        "        for i in range(num_qubits):\n",
        "            J,U,h = XX_chain_parameters()\n",
        "            circuit_a_j(circuit, i, h, time)\n",
        "            if i%2 == 0:\n",
        "                circuit_c_j(circuit, i, U, J[1], time)\n",
        "            elif i%2 != 0 and i != num_qubits - 1 :\n",
        "                circuit_b_j(circuit, i, U, J[1], time)\n",
        "            circuit_a_j(circuit, i, h, time)\n",
        "    return circuit"
      ],
      "execution_count": null,
      "outputs": []
    },
    {
      "cell_type": "code",
      "metadata": {
        "id": "LyUl87TNaJQm"
      },
      "source": [
        "def circuit_for_n_half(circuit, time, step, num_qubits, chain):\n",
        "    for j in range(step):\n",
        "        if chain == 'xx-disordered':\n",
        "            for i in range(num_qubits):\n",
        "                J,U,h = XX_disorder_chain_parameters()\n",
        "                circuit_a_j(circuit, i, h, time)\n",
        "                if i%2 == 0:\n",
        "                    circuit_c_j(circuit, i, U, J[1], time)\n",
        "                elif i%2 != 0 and i != num_qubits - 1:\n",
        "                    circuit_b_j(circuit, i, U, J[1], time)\n",
        "                circuit_a_j(circuit, i, h, time)\n",
        "        elif chain == 'xxz-spin-chain':\n",
        "            for i in range(num_qubits):\n",
        "                J,U,h = XXZ_spin_chain_parameters()\n",
        "                circuit_a_j(circuit, i, h, time)\n",
        "                if i%2 == 0:\n",
        "                    circuit_c_j(circuit, i, U[2], J[1], time)\n",
        "                elif i%2 != 0 and i != num_qubits - 1:\n",
        "                    circuit_b_j(circuit, i, U[2], J[1], time)\n",
        "                circuit_a_j(circuit, i, h, time)\n",
        "        elif chain == 'xxz-chain-potential':\n",
        "            for i in range(num_qubits):\n",
        "                J,U,h = XXZ_chain_potential_parameters(num_qubits,i)\n",
        "                circuit_a_j(circuit, i, h, time)\n",
        "                if i%2 == 0:\n",
        "                    circuit_c_j(circuit, i, U[4], J[1], time)\n",
        "                elif i%2 != 0 and i != num_qubits - 1:\n",
        "                    circuit_b_j(circuit, i, U[4], J[1], time)\n",
        "                circuit_a_j(circuit, i, h, time)\n",
        "    return circuit        \n",
        "        "
      ],
      "execution_count": null,
      "outputs": []
    },
    {
      "cell_type": "code",
      "metadata": {
        "id": "6o71glAAsHTl"
      },
      "source": [
        "def circuit_for_spin_correlator(circuit, time, step, num_qubits):\n",
        "  for j in range(step):\n",
        "        for i in range(num_qubits):\n",
        "            J,U,h = XX_chain_parameters()\n",
        "            circuit_a_j(circuit, i, h, time)\n",
        "            if i%2 == 0:\n",
        "                circuit_c_j(circuit, i, U, J[2], time)\n",
        "            elif i%2 != 0 and i != num_qubits - 1 :\n",
        "                circuit_b_j(circuit, i, U, J[2], time)\n",
        "            circuit_a_j(circuit, i, h, time)\n",
        "  return circuit"
      ],
      "execution_count": null,
      "outputs": []
    },
    {
      "cell_type": "code",
      "metadata": {
        "id": "GAA79y-gaJQn"
      },
      "source": [
        "# #driver programme for n_half \n",
        "# circuit = domain_wall_state(circuit, num_qubits)\n",
        "# circuit = circuit_for_n_half(circuit, 1, 1, num_qubits, 'xxz-chain-potential')\n",
        "# circuit.measure(qreg_q, creg_c)\n",
        "# # circuit.measure(qreg_q[1:10], creg_c[1:10])\n",
        "# circuit.draw('text', scale = 0.25, plot_barriers = False, fold = -1)"
      ],
      "execution_count": null,
      "outputs": []
    },
    {
      "cell_type": "code",
      "metadata": {
        "scrolled": true,
        "colab": {
          "base_uri": "https://localhost:8080/",
          "height": 202
        },
        "id": "FZGjkkYkaJQo",
        "outputId": "0aa48713-8a73-4aac-d700-fe9945f2575b"
      },
      "source": [
        "# %tb\n",
        "def circuit_generation(num_qubits, time, step, chain, q_index):\n",
        "    \n",
        "  \n",
        "  # driver programme for magnetization\n",
        "  circuit = domain_wall_state(circuit_1(), num_qubits)\n",
        "  # circuit = neel_state_preparation(circuit_1(), num_qubits)\n",
        "  circuit = circuit_for_magnetization(circuit, time, step, num_qubits)\n",
        "  circuit.measure(qreg_q[q_index], creg_c[0])\n",
        "  circuit.draw('text', scale = 0.25, plot_barriers = False, fold = -1)\n",
        "\n",
        "  return circuit\n",
        "circuit_generation(4, 0.5, 1, 'xxz-chain-potential', 0).draw('text', plot_barriers = False, fold = -1)"
      ],
      "execution_count": null,
      "outputs": [
        {
          "output_type": "execute_result",
          "data": {
            "text/html": [
              "<pre style=\"word-wrap: normal;white-space: pre;background: #fff0;line-height: 1.1;font-family: &quot;Courier New&quot;,Courier,monospace\">     ┌───┐ ┌───────┐                           ┌──────────────────┐     ┌──────────────────┐                ┌───────────────────┐       ┌───────┐                                                                                                                                                                                                                                                                                                          ┌─┐\n",
              "q_0: ┤ X ├─┤ Rz(0) ├────■─────────────■─────■──┤ U3(0.5,-π/2,π/2) ├─────┤ U3(0.5,π/2,-π/2) ├───────■─────■──┤ U3(-0.5,-π/2,π/2) ├──■────┤ Rz(0) ├──────────────────────────────────────────────────────────────────────────────────────────────────────────────────────────────────────────────────────────────────────────────────────────────────────────────────────────────────────────────────────────────────────────────────────────────────────────┤M├\n",
              "     ├───┤ └───────┘  ┌─┴─┐┌───────┐┌─┴─┐ ┌─┴─┐└────────┬─────────┘┌───┐└────────┬─────────┘┌───┐┌─┴─┐ ┌─┴─┐└───────────────────┘┌─┴─┐  └───────┘  ┌───────┐                           ┌───────────────────┐     ┌───────────────────┐                ┌────────────────────┐       ┌───────┐                                                                                                                                                               └╥┘\n",
              "q_1: ┤ X ├────────────┤ X ├┤ Rz(0) ├┤ X ├─┤ X ├─────────■──────────┤ X ├─────────■──────────┤ X ├┤ X ├─┤ X ├─────────────────────┤ X ├─────────────┤ Rz(0) ├────■─────────────■─────■──┤ U3(0.25,-π/2,π/2) ├─────┤ U3(0.25,π/2,-π/2) ├───────■─────■──┤ U3(-0.25,-π/2,π/2) ├──■────┤ Rz(0) ├────────────────────────────────────────────────────────────────────────────────────────────────────────────────────────────────────────────────────────────────╫─\n",
              "     └───┘            └───┘└───────┘└───┘ └───┘                    └───┘                    └───┘└───┘ └───┘                     └───┘             └───────┘  ┌─┴─┐┌───────┐┌─┴─┐ ┌─┴─┐└─────────┬─────────┘┌───┐└─────────┬─────────┘┌───┐┌─┴─┐ ┌─┴─┐└────────────────────┘┌─┴─┐  └───────┘  ┌───────┐                           ┌──────────────────┐     ┌──────────────────┐                ┌───────────────────┐       ┌───────┐                        ║ \n",
              "q_2: ─────────────────────────────────────────────────────────────────────────────────────────────────────────────────────────────────────────────────────────┤ X ├┤ Rz(0) ├┤ X ├─┤ X ├──────────■──────────┤ X ├──────────■──────────┤ X ├┤ X ├─┤ X ├──────────────────────┤ X ├─────────────┤ Rz(0) ├────■─────────────■─────■──┤ U3(0.5,-π/2,π/2) ├─────┤ U3(0.5,π/2,-π/2) ├───────■─────■──┤ U3(-0.5,-π/2,π/2) ├──■────┤ Rz(0) ├────────────────────────╫─\n",
              "                                                                                                                                                              └───┘└───────┘└───┘ └───┘                     └───┘                     └───┘└───┘ └───┘                      └───┘             └───────┘  ┌─┴─┐┌───────┐┌─┴─┐ ┌─┴─┐└────────┬─────────┘┌───┐└────────┬─────────┘┌───┐┌─┴─┐ ┌─┴─┐└───────────────────┘┌─┴─┐  └───────┘  ┌───────┐  ┌───────┐  ║ \n",
              "q_3: ────────────────────────────────────────────────────────────────────────────────────────────────────────────────────────────────────────────────────────────────────────────────────────────────────────────────────────────────────────────────────────────────────────────────────────────────────┤ X ├┤ Rz(0) ├┤ X ├─┤ X ├─────────■──────────┤ X ├─────────■──────────┤ X ├┤ X ├─┤ X ├─────────────────────┤ X ├─────────────┤ Rz(0) ├──┤ Rz(0) ├──╫─\n",
              "                                                                                                                                                                                                                                                                                                         └───┘└───────┘└───┘ └───┘                    └───┘                    └───┘└───┘ └───┘                     └───┘             └───────┘  └───────┘  ║ \n",
              "c: 1/═══════════════════════════════════════════════════════════════════════════════════════════════════════════════════════════════════════════════════════════════════════════════════════════════════════════════════════════════════════════════════════════════════════════════════════════════════════════════════════════════════════════════════════════════════════════════════════════════════════════════════════════════════════════════════════╩═\n",
              "                                                                                                                                                                                                                                                                                                                                                                                                                                                            0 </pre>"
            ],
            "text/plain": [
              "     ┌───┐ ┌───────┐                           ┌──────────────────┐     ┌──────────────────┐                ┌───────────────────┐       ┌───────┐                                                                                                                                                                                                                                                                                                          ┌─┐\n",
              "q_0: ┤ X ├─┤ Rz(0) ├────■─────────────■─────■──┤ U3(0.5,-π/2,π/2) ├─────┤ U3(0.5,π/2,-π/2) ├───────■─────■──┤ U3(-0.5,-π/2,π/2) ├──■────┤ Rz(0) ├──────────────────────────────────────────────────────────────────────────────────────────────────────────────────────────────────────────────────────────────────────────────────────────────────────────────────────────────────────────────────────────────────────────────────────────────────────────┤M├\n",
              "     ├───┤ └───────┘  ┌─┴─┐┌───────┐┌─┴─┐ ┌─┴─┐└────────┬─────────┘┌───┐└────────┬─────────┘┌───┐┌─┴─┐ ┌─┴─┐└───────────────────┘┌─┴─┐  └───────┘  ┌───────┐                           ┌───────────────────┐     ┌───────────────────┐                ┌────────────────────┐       ┌───────┐                                                                                                                                                               └╥┘\n",
              "q_1: ┤ X ├────────────┤ X ├┤ Rz(0) ├┤ X ├─┤ X ├─────────■──────────┤ X ├─────────■──────────┤ X ├┤ X ├─┤ X ├─────────────────────┤ X ├─────────────┤ Rz(0) ├────■─────────────■─────■──┤ U3(0.25,-π/2,π/2) ├─────┤ U3(0.25,π/2,-π/2) ├───────■─────■──┤ U3(-0.25,-π/2,π/2) ├──■────┤ Rz(0) ├────────────────────────────────────────────────────────────────────────────────────────────────────────────────────────────────────────────────────────────────╫─\n",
              "     └───┘            └───┘└───────┘└───┘ └───┘                    └───┘                    └───┘└───┘ └───┘                     └───┘             └───────┘  ┌─┴─┐┌───────┐┌─┴─┐ ┌─┴─┐└─────────┬─────────┘┌───┐└─────────┬─────────┘┌───┐┌─┴─┐ ┌─┴─┐└────────────────────┘┌─┴─┐  └───────┘  ┌───────┐                           ┌──────────────────┐     ┌──────────────────┐                ┌───────────────────┐       ┌───────┐                        ║ \n",
              "q_2: ─────────────────────────────────────────────────────────────────────────────────────────────────────────────────────────────────────────────────────────┤ X ├┤ Rz(0) ├┤ X ├─┤ X ├──────────■──────────┤ X ├──────────■──────────┤ X ├┤ X ├─┤ X ├──────────────────────┤ X ├─────────────┤ Rz(0) ├────■─────────────■─────■──┤ U3(0.5,-π/2,π/2) ├─────┤ U3(0.5,π/2,-π/2) ├───────■─────■──┤ U3(-0.5,-π/2,π/2) ├──■────┤ Rz(0) ├────────────────────────╫─\n",
              "                                                                                                                                                              └───┘└───────┘└───┘ └───┘                     └───┘                     └───┘└───┘ └───┘                      └───┘             └───────┘  ┌─┴─┐┌───────┐┌─┴─┐ ┌─┴─┐└────────┬─────────┘┌───┐└────────┬─────────┘┌───┐┌─┴─┐ ┌─┴─┐└───────────────────┘┌─┴─┐  └───────┘  ┌───────┐  ┌───────┐  ║ \n",
              "q_3: ────────────────────────────────────────────────────────────────────────────────────────────────────────────────────────────────────────────────────────────────────────────────────────────────────────────────────────────────────────────────────────────────────────────────────────────────────┤ X ├┤ Rz(0) ├┤ X ├─┤ X ├─────────■──────────┤ X ├─────────■──────────┤ X ├┤ X ├─┤ X ├─────────────────────┤ X ├─────────────┤ Rz(0) ├──┤ Rz(0) ├──╫─\n",
              "                                                                                                                                                                                                                                                                                                         └───┘└───────┘└───┘ └───┘                    └───┘                    └───┘└───┘ └───┘                     └───┘             └───────┘  └───────┘  ║ \n",
              "c: 1/═══════════════════════════════════════════════════════════════════════════════════════════════════════════════════════════════════════════════════════════════════════════════════════════════════════════════════════════════════════════════════════════════════════════════════════════════════════════════════════════════════════════════════════════════════════════════════════════════════════════════════════════════════════════════════════╩═\n",
              "                                                                                                                                                                                                                                                                                                                                                                                                                                                            0 "
            ]
          },
          "metadata": {
            "tags": []
          },
          "execution_count": 92
        }
      ]
    },
    {
      "cell_type": "code",
      "metadata": {
        "colab": {
          "base_uri": "https://localhost:8080/"
        },
        "id": "zRVG8LFg88ns",
        "outputId": "063739a8-3e53-4f85-d4ae-4827546cbe30"
      },
      "source": [
        "from qiskit import IBMQ\n",
        "from qiskit.providers.ibmq import least_busy\n",
        "\n",
        "# Load local account information\n",
        "IBMQ.load_account()\n",
        "# Get the least busy backend\n",
        "provider = IBMQ.get_provider(hub='ibm-q')\n",
        "backend = least_busy(provider.backends(filters=lambda x: x.configuration().n_qubits >= 2\n",
        "                                        and not x.configuration().simulator \n",
        "                                        and x.status().operational==True))"
      ],
      "execution_count": null,
      "outputs": [
        {
          "output_type": "stream",
          "text": [
            "ibmqfactory.load_account:WARNING:2021-07-18 05:05:08,543: Credentials are already in use. The existing account in the session will be replaced.\n"
          ],
          "name": "stderr"
        }
      ]
    },
    {
      "cell_type": "code",
      "metadata": {
        "id": "wJNundZR9l91"
      },
      "source": [
        "from qiskit.tools.monitor import job_monitor\n"
      ],
      "execution_count": null,
      "outputs": []
    },
    {
      "cell_type": "code",
      "metadata": {
        "colab": {
          "base_uri": "https://localhost:8080/"
        },
        "id": "7LQHKcpsBGaF",
        "outputId": "950c6ad2-70ff-4e51-a753-7c98dc763634"
      },
      "source": [
        "def circuit_measurement(num_qubits, time, step, chain, q_index ):\n",
        "\n",
        "  \n",
        "  shots = 2048\n",
        "\n",
        "  circuit = []\n",
        "  # circuit_2 = []\n",
        "  magnetization = []\n",
        "  for i in range(step):\n",
        "    circuit.append(circuit_generation(num_qubits, time, step, chain, q_index[0], q_index[1] ))\n",
        "  for i in range(step):\n",
        "    circuit.append(circuit_generation(num_qubits, time, step, chain, q_index[0], q_index[2] ))\n",
        "  for i in range(step):\n",
        "    circuit.append(circuit_generation(num_qubits, time, step, chain, q_index[0], q_index[3] ))\n",
        "  for i in range(step):\n",
        "    circuit.append(circuit_generation(num_qubits, time, step, chain, q_index[1], q_index[2] ))\n",
        "  for i in range(step):\n",
        "    circuit.append(circuit_generation(num_qubits, time, step, chain, q_index[1], q_index[3] ))\n",
        "  for i in range(step):\n",
        "    circuit.append(circuit_generation(num_qubits, time, step, chain, q_index[2], q_index[3] ))\n",
        "  \n",
        "\n",
        "    \n",
        "  # # Run our circuit\n",
        "  t_qc = transpile(circuit, backend, optimization_level=3)\n",
        "  qobj = assemble(t_qc, shots = shots)\n",
        "  job = backend.run(qobj)\n",
        "\n",
        "  job_monitor(job)\n",
        "  result = job.result()\n",
        "  for c in circuit:\n",
        "\n",
        "    counts = result.get_counts(c)\n",
        "    # counts_2 = result.get_counts(c_2)\n",
        "    probs = {}\n",
        "    for output in ['00','01', '10', '11']:\n",
        "      if output in counts:\n",
        "          probs[output] = counts[output]/shots\n",
        "      else:\n",
        "          probs[output] = 0\n",
        "\n",
        "      # if output_2 in counts_2:\n",
        "      #     probs_2[output_2] = counts_2[output_2]/shots\n",
        "      # else:\n",
        "      #     probs_2[output_2] = 0\n",
        "      \n",
        "    magnetization.append(probs['00'] - probs['01'] - probs['10'] + probs['11'])\n",
        "\n",
        "  return magnetization\n",
        "\n",
        "value = circuit_measurement(4, 0.25, 8,'', [0,1,2,3])\n",
        "print(value)\n"
      ],
      "execution_count": null,
      "outputs": [
        {
          "output_type": "stream",
          "text": [
            "/usr/local/lib/python3.7/dist-packages/ipykernel_launcher.py:27: DeprecationWarning: Passing a Qobj to Backend.run is deprecated and will be removed in a future release. Please pass in circuits or pulse schedules instead.\n"
          ],
          "name": "stderr"
        },
        {
          "output_type": "stream",
          "text": [
            "Job Status: job has successfully run\n",
            "[0.0458984375, 0.130859375, 0.1962890625, 0.1005859375, 0.1767578125, 0.087890625, 0.0625, 0.076171875, -0.07421875, -0.0341796875, -0.0556640625, -0.076171875, -0.076171875, -0.0458984375, -0.04296875, -0.064453125, -0.0107421875, -0.0185546875, -0.0126953125, -0.087890625, -0.1064453125, -0.1083984375, -0.02734375, -0.0625, -0.103515625, -0.0458984375, -0.10546875, -0.044921875, -0.033203125, -0.0263671875, -0.0400390625, -0.150390625, -0.0625, -0.0244140625, -0.0615234375, -0.16796875, -0.0419921875, -0.1455078125, -0.0517578125, -0.1796875, 0.298828125, 0.361328125, 0.3623046875, 0.2685546875, 0.43359375, 0.2900390625, 0.376953125, 0.3515625]\n"
          ],
          "name": "stdout"
        }
      ]
    },
    {
      "cell_type": "code",
      "metadata": {
        "colab": {
          "base_uri": "https://localhost:8080/"
        },
        "id": "H03VbiZ09zcV",
        "outputId": "cb13730c-965f-4f84-bfcd-ffe97177fae0"
      },
      "source": [
        "temp = value\n",
        "temp = np.array(temp)\n",
        "temp_s1 = temp[0:8]\n",
        "temp_s2 = temp[8:16]\n",
        "temp_s3 = temp[16:24]\n",
        "temp_s4 = temp[24:32]\n",
        "temp_s5 = temp[32:40]\n",
        "temp_s6 = temp[40:48]\n",
        "\n",
        "print(temp_s1, temp_s2, temp_s3, temp_s4, temp_s5, temp_s6)\n",
        "temp_total = np.sum([temp_s1, -temp_s2, -temp_s3, -temp_s4, -temp_s5, temp_s6, temp_s1, -temp_s4, temp_s6], axis = 0)\n",
        "print(temp_total)"
      ],
      "execution_count": null,
      "outputs": [
        {
          "output_type": "stream",
          "text": [
            "[0.04589844 0.13085938 0.19628906 0.10058594 0.17675781 0.08789062\n",
            " 0.0625     0.07617188] [-0.07421875 -0.03417969 -0.05566406 -0.07617188 -0.07617188 -0.04589844\n",
            " -0.04296875 -0.06445312] [-0.01074219 -0.01855469 -0.01269531 -0.08789062 -0.10644531 -0.10839844\n",
            " -0.02734375 -0.0625    ] [-0.10351562 -0.04589844 -0.10546875 -0.04492188 -0.03320312 -0.02636719\n",
            " -0.04003906 -0.15039062] [-0.0625     -0.02441406 -0.06152344 -0.16796875 -0.04199219 -0.14550781\n",
            " -0.05175781 -0.1796875 ] [0.29882812 0.36132812 0.36230469 0.26855469 0.43359375 0.29003906\n",
            " 0.37695312 0.3515625 ]\n",
            "[1.04394531 1.15332031 1.45800781 1.16015625 1.51171875 1.10839844\n",
            " 1.08105469 1.46289062]\n"
          ],
          "name": "stdout"
        }
      ]
    },
    {
      "cell_type": "code",
      "metadata": {
        "colab": {
          "base_uri": "https://localhost:8080/"
        },
        "id": "npVhQeWlaJQq",
        "outputId": "7d5b7013-3941-485e-eccc-53cbfdff799c"
      },
      "source": [
        "def circuit_measurement(num_qubits, time, step, chain, q_index ):\n",
        "\n",
        "  \n",
        "  shots = 2048\n",
        "\n",
        "  circuit = []\n",
        "  # circuit_2 = []\n",
        "  magnetization = []\n",
        "  for i in range(step):\n",
        "    circuit.append(circuit_generation(num_qubits, time, step, chain, q_index[0] ))\n",
        "  for i in range(step):\n",
        "    circuit.append(circuit_generation(num_qubits, time, step, chain, q_index[1] ))\n",
        "  for i in range(step):\n",
        "    circuit.append(circuit_generation(num_qubits, time, step, chain, q_index[2] ))\n",
        "  for i in range(step):\n",
        "    circuit.append(circuit_generation(num_qubits, time, step, chain, q_index[3] ))\n",
        "\n",
        "    \n",
        "  # # Run our circuit\n",
        "  t_qc = transpile(circuit, backend, optimization_level=3)\n",
        "  qobj = assemble(t_qc, shots = shots)\n",
        "  job = backend.run(qobj)\n",
        "\n",
        "  job_monitor(job)\n",
        "  result = job.result()\n",
        "  for c in circuit:\n",
        "\n",
        "    counts = result.get_counts(c)\n",
        "    # counts_2 = result.get_counts(c_2)\n",
        "    probs = {}\n",
        "    # probs_2 = {}\n",
        "    for output in ['0','1']:\n",
        "      if output in counts:\n",
        "          probs[output] = counts[output]/shots\n",
        "      else:\n",
        "          probs[output] = 0\n",
        "\n",
        "      # if output_2 in counts_2:\n",
        "      #     probs_2[output_2] = counts_2[output_2]/shots\n",
        "      # else:\n",
        "      #     probs_2[output_2] = 0\n",
        "      \n",
        "    magnetization.append(probs['0'] - probs['1'])\n",
        "\n",
        "  return magnetization\n",
        "mag = circuit_measurement(4, 0.25, 8, 'xxz-spin-chain', [0,1,2,3])\n",
        "\n",
        "print(mag)\n"
      ],
      "execution_count": null,
      "outputs": [
        {
          "output_type": "stream",
          "text": [
            "/usr/local/lib/python3.7/dist-packages/ipykernel_launcher.py:22: DeprecationWarning: Passing a Qobj to Backend.run is deprecated and will be removed in a future release. Please pass in circuits or pulse schedules instead.\n"
          ],
          "name": "stderr"
        },
        {
          "output_type": "stream",
          "text": [
            "Job Status: job has successfully run\n",
            "[-0.076171875, -0.146484375, -0.1171875, 0.0380859375, 0.017578125, 0.0166015625, 0.0361328125, 0.005859375, -0.0625, -0.212890625, -0.12890625, -0.2939453125, -0.26171875, -0.31640625, -0.3017578125, -0.30859375, 0.34375, 0.328125, 0.1865234375, 0.3408203125, 0.1875, 0.2236328125, 0.3291015625, 0.3291015625, 0.3818359375, 0.408203125, 0.4814453125, 0.443359375, 0.62109375, 0.416015625, 0.44140625, 0.5947265625]\n"
          ],
          "name": "stdout"
        }
      ]
    },
    {
      "cell_type": "code",
      "metadata": {
        "colab": {
          "base_uri": "https://localhost:8080/"
        },
        "id": "gdzEpHK1c-22",
        "outputId": "35bca633-af51-4bfe-a6db-1cc44c9adcbf"
      },
      "source": [
        "result = mag\n",
        "result = np.array(result)\n",
        "temp_1 = result[0:8]\n",
        "temp_2 = result[8:16]\n",
        "temp_3 = result[16:24]\n",
        "temp_4 = result[24:32]\n",
        "print(temp_1, temp_2, temp_3, temp_4)\n",
        "temp_add = np.sum([temp_1, temp_2, -temp_3, -temp_4], axis = 0)\n",
        "print(temp_add)"
      ],
      "execution_count": null,
      "outputs": [
        {
          "output_type": "stream",
          "text": [
            "[-0.07617188 -0.14648438 -0.1171875   0.03808594  0.01757812  0.01660156\n",
            "  0.03613281  0.00585938] [-0.0625     -0.21289062 -0.12890625 -0.29394531 -0.26171875 -0.31640625\n",
            " -0.30175781 -0.30859375] [0.34375    0.328125   0.18652344 0.34082031 0.1875     0.22363281\n",
            " 0.32910156 0.32910156] [0.38183594 0.40820312 0.48144531 0.44335938 0.62109375 0.41601562\n",
            " 0.44140625 0.59472656]\n",
            "[-0.86425781 -1.09570312 -0.9140625  -1.04003906 -1.05273438 -0.93945312\n",
            " -1.03613281 -1.2265625 ]\n"
          ],
          "name": "stdout"
        }
      ]
    },
    {
      "cell_type": "code",
      "metadata": {
        "colab": {
          "base_uri": "https://localhost:8080/"
        },
        "id": "SdEANmsxA4aO",
        "outputId": "3660856e-b7df-48e3-9c3d-9785d715e0b7"
      },
      "source": [
        "temp_final = np.divide((temp_total - np.power(temp_add, 2)), 4)\n",
        "print(temp_final)"
      ],
      "execution_count": null,
      "outputs": [
        {
          "output_type": "stream",
          "text": [
            "[ 0.07425094 -0.01181126  0.15562439  0.01961875  0.10086727  0.05645657\n",
            "  0.00187087 -0.01039124]\n"
          ],
          "name": "stdout"
        }
      ]
    },
    {
      "cell_type": "code",
      "metadata": {
        "colab": {
          "base_uri": "https://localhost:8080/",
          "height": 301
        },
        "id": "gUt5v7gbRI1y",
        "outputId": "5ec2dd00-dc87-473d-8eb1-3ff07fbe07ec"
      },
      "source": [
        "x = np.linspace(0, 2.25, num=9)\n",
        "y = [0., 0.04967856, 0.05419898, 0.06365585, 0.06899428, 0.07117367, 0.09909797,\n",
        " 0.0696373,  0.06624985 ]\n",
        "y1 = [0., 0.27096462, 0.24926758, 0.24961853, 0.27561951, 0.25461483, 0.27078915,\n",
        " 0.26388717, 0.2896688 ]\n",
        "plt.plot(x, y, label = 'Domain Wall State QFI', linestyle = 'dashed', marker = 'o')\n",
        "plt.plot(x, y1, label = 'Neel State QFI', linestyle = 'dashed', marker = 'o')\n",
        "# naming the x axis\n",
        "plt.xlabel('Jt')\n",
        "# naming the y axis\n",
        "plt.ylabel('F_{q}/N')\n",
        "# giving a title to my graph\n",
        "plt.title('QFI for 4 qubits ')\n",
        "  \n",
        "# show a legend on the plot\n",
        "plt.legend()\n",
        "  \n",
        "# function to show the plot\n",
        "plt.show()"
      ],
      "execution_count": null,
      "outputs": [
        {
          "output_type": "display_data",
          "data": {
            "image/png": "[encoded data removed]",
            "text/plain": [
              "<Figure size 432x288 with 1 Axes>"
            ]
          },
          "metadata": {
            "tags": [],
            "needs_background": "light"
          }
        }
      ]
    },
    {
      "cell_type": "code",
      "metadata": {
        "colab": {
          "base_uri": "https://localhost:8080/",
          "height": 310
        },
        "id": "j0gf_YW9eY1-",
        "outputId": "f47a9f56-514c-4ad5-fedf-a4eff9d49c39"
      },
      "source": [
        "x = np.linspace(0, 2.25, num = 9)\n",
        "y1 = np.array([0., 0.86035156, 0.85888672, 0.83203125, 0.82080078, 0.86816406, 0.83886719,\n",
        " 0.83740234, 0.84521484])\n",
        "y2 = np.array([0., 1.05224609, 1.05908203, 1.03710938, 1.04736328, 1.06542969, 1.03857422,\n",
        " 1.05029297, 1.05810547])\n",
        "y3 = np.array([0., 1.05078125, 1.0234375,  1.03173828, 1.04589844, 1.06640625, 1.02197266,\n",
        " 1.04638672, 1.07080078])\n",
        "y4 = np.array([0., 1.05908203, 1.04199219, 1.05908203, 1.04052734, 1.04931641, 1.06933594,\n",
        " 1.06298828, 1.05908203])\n",
        "y5 = np.array([0., 1.03808594, 1.08789062, 1.02734375, 1.07958984, 1.02929688, 1.06689453,\n",
        " 1.05273438, 1.046875])\n",
        "\n",
        "plt.plot(x, y1, label = 'U = 0.0', linestyle = 'dashed', marker = 'o')\n",
        "plt.plot(x, y2, label = \"U = 0.5\", linestyle = 'dashed', marker = 'o')\n",
        "plt.plot(x, y3, label = 'U = 1.0', linestyle = 'dashed', marker = 'o')\n",
        "plt.plot(x, y4, label = 'U = 1.5', linestyle = 'dashed', marker = 'o')\n",
        "plt.plot(x, y5, label = 'U = 2.0', linestyle = 'dashed', marker = 'o')\n",
        "\n",
        "# naming the x axis\n",
        "plt.xlabel('Jt')\n",
        "# naming the y axis\n",
        "plt.ylabel('N_{half}')\n",
        "# giving a title to my graph\n",
        "plt.title('N_half results for qubits = 4 (domain-wall state)\\n J_{x} = J_{y} = 1.0, h = 0.0 ')\n",
        "  \n",
        "# show a legend on the plot\n",
        "plt.legend()\n",
        "  \n",
        "# function to show the plot\n",
        "plt.show()"
      ],
      "execution_count": null,
      "outputs": [
        {
          "output_type": "display_data",
          "data": {
            "image/png": "[encoded data removed]",
            "text/plain": [
              "<Figure size 432x288 with 1 Axes>"
            ]
          },
          "metadata": {
            "tags": [],
            "needs_background": "light"
          }
        }
      ]
    },
    {
      "cell_type": "code",
      "metadata": {
        "colab": {
          "base_uri": "https://localhost:8080/",
          "height": 310
        },
        "id": "ZWCW2FfS1t6C",
        "outputId": "9c6585ff-2a43-4a95-fc77-43c148176e3e"
      },
      "source": [
        "x = np.linspace(0, 2.25, num = 9)\n",
        "y1 = np.array([0., 0.92089844, 0.90917969, 0.97900391, 0.94238281, 1.09814453, 0.95166016,\n",
        " 0.9765625,  0.96533203 ])\n",
        "y2 = np.array([0., 1.00537109, 0.95361328, 1.10986328, 0.99658203, 1.08203125, 1.08251953,\n",
        " 1.11132812, 1.078125   ])\n",
        "y3 = np.array([0., 1.11328125, 1.12011719, 1.05029297, 1.06298828, 1.11083984, 0.95019531,\n",
        " 0.94970703, 1.00390625 ])\n",
        "y4 = np.array([0., 1.04248047, 1.04199219, 1.01123047, 1.07470703, 1.07861328, 1.06201172,\n",
        " 1.06347656, 1.06347656 ])\n",
        "y5 = np.array([0., 1.11230469, 1.18798828, 1.08447266, 1.28613281, 1.28369141, 1.03613281,\n",
        " 1.27685547, 1.27148438 ])\n",
        "\n",
        "plt.plot(x, y1, label = 'U = 0.0', linestyle = 'dashed', marker = 'o')\n",
        "plt.plot(x, y2, label = \"U = 0.2\", linestyle = 'dashed', marker = 'o')\n",
        "plt.plot(x, y3, label = 'U = 0.4', linestyle = 'dashed', marker = 'o')\n",
        "plt.plot(x, y4, label = 'U = 0.6', linestyle = 'dashed', marker = 'o')\n",
        "plt.plot(x, y5, label = 'U = 0.8', linestyle = 'dashed', marker = 'o')\n",
        "\n",
        "# naming the x axis\n",
        "plt.xlabel('Jt')\n",
        "# naming the y axis\n",
        "plt.ylabel('N_{half}')\n",
        "# giving a title to my graph\n",
        "plt.title('N_half results for qubits = 4 (domain-wall state)\\n J_{x} = J_{y} = 1.0, h_j = 1.5 ')\n",
        "  \n",
        "# show a legend on the plot\n",
        "plt.legend()\n",
        "  \n",
        "# function to show the plot\n",
        "plt.show()"
      ],
      "execution_count": null,
      "outputs": [
        {
          "output_type": "display_data",
          "data": {
            "image/png": "[encoded data removed]",
            "text/plain": [
              "<Figure size 432x288 with 1 Axes>"
            ]
          },
          "metadata": {
            "tags": [],
            "needs_background": "light"
          }
        }
      ]
    },
    {
      "cell_type": "code",
      "metadata": {
        "colab": {
          "base_uri": "https://localhost:8080/",
          "height": 310
        },
        "id": "LI_I7EakQKBU",
        "outputId": "18548f68-a84c-49d6-97f4-134d6eb1b238"
      },
      "source": [
        "x = np.linspace(0, 3.5, num = 7)\n",
        "y1 = np.array([0., 0.97509766, 1.00390625, 1.01708984, 0.97900391, 0.99023438, 1.01074219])\n",
        "y2 = np.array([0., 0.96826172, 1.06347656, 1.01367188, 1.05273438, 1.15478516, 1.08447266])\n",
        "y3 = np.array([0., 1.06201172, 1.15429688, 1.00390625, 0.93847656, 1.00488281, 1.11962891])\n",
        "y4 = np.array([0., 1.15332031, 1.17041016, 1.06494141, 1.01513672, 1.21972656, 1.07714844])\n",
        "y5 = np.array([0., 1.015625,   1.00878906, 1.02734375, 1.04150391, 0.99414062, 1.02783203])\n",
        "\n",
        "plt.plot(x, y1, label = 'h = 0.0', linestyle = 'dashed', marker = 'o')\n",
        "plt.plot(x, y2, label = \"h = 0.5\", linestyle = 'dashed', marker = 'o')\n",
        "plt.plot(x, y3, label = 'h = 1.0', linestyle = 'dashed', marker = 'o')\n",
        "plt.plot(x, y4, label = 'h = 1.5', linestyle = 'dashed', marker = 'o')\n",
        "plt.plot(x, y5, label = 'h = 2.0', linestyle = 'dashed', marker = 'o')\n",
        "\n",
        "# naming the x axis\n",
        "plt.xlabel('Jt')\n",
        "# naming the y axis\n",
        "plt.ylabel('N_{half}')\n",
        "# giving a title to my graph\n",
        "plt.title('N_half results for qubits = 4 (domain-wall state)\\n J_{x} = J_{y} = 1.0 ')\n",
        "  \n",
        "# show a legend on the plot\n",
        "plt.legend()\n",
        "  \n",
        "# function to show the plot\n",
        "plt.show()\n"
      ],
      "execution_count": null,
      "outputs": [
        {
          "output_type": "display_data",
          "data": {
            "image/png": "[encoded data removed]",
            "text/plain": [
              "<Figure size 432x288 with 1 Axes>"
            ]
          },
          "metadata": {
            "tags": [],
            "needs_background": "light"
          }
        }
      ]
    },
    {
      "cell_type": "code",
      "metadata": {
        "colab": {
          "base_uri": "https://localhost:8080/",
          "height": 310
        },
        "id": "lKg4NZPLaJQq",
        "outputId": "5df90d99-0a07-428b-b90d-60705d446140"
      },
      "source": [
        "x = np.linspace(0, 3.5, num = 7)\n",
        "y1 = np.array([-1., 0.02832031, 0.09472656, 0.07226562, 0.19335938, 0.04296875, 0.01660156 ])\n",
        "y2 = np.array([-1., -0.01464844, -0.18554688, -0.26171875, -0.13769531, -0.15429688, -0.00683594])\n",
        "y3 = np.array([1., 0.07910156, 0.06152344, 0.16503906, 0.1015625,  0.00878906, 0.07324219])\n",
        "y4 = np.array([1., 0.53222656, 0.33300781, 0.21875,    0.25390625, 0.24023438, 0.53808594])\n",
        "\n",
        "plt.plot(x, y1, label = 'Qubit 1', linestyle = 'dashed', marker = 'o')\n",
        "plt.plot(x, y2, label = \"Qubit 2\", linestyle = 'dashed', marker = 'o')\n",
        "plt.plot(x, y3, label = 'Qubit 3', linestyle = 'dashed', marker = 'o')\n",
        "plt.plot(x, y4, label = 'Qubit 4', linestyle = 'dashed', marker = 'o')\n",
        "  \n",
        "# naming the x axis\n",
        "plt.xlabel('Jt')\n",
        "# naming the y axis\n",
        "plt.ylabel('Magnetization')\n",
        "# giving a title to my graph\n",
        "plt.title('Magnetization results for qubits = 4 (domain-wall state)\\n J_{x} = J_{y} = 1.0 ')\n",
        "  \n",
        "# show a legend on the plot\n",
        "plt.legend()\n",
        "  \n",
        "# function to show the plot\n",
        "plt.show()"
      ],
      "execution_count": null,
      "outputs": [
        {
          "output_type": "display_data",
          "data": {
            "image/png": "[encoded data removed]",
            "text/plain": [
              "<Figure size 432x288 with 1 Axes>"
            ]
          },
          "metadata": {
            "tags": [],
            "needs_background": "light"
          }
        }
      ]
    },
    {
      "cell_type": "code",
      "metadata": {
        "colab": {
          "base_uri": "https://localhost:8080/",
          "height": 301
        },
        "id": "ffeZGkW04WMi",
        "outputId": "a1abebd7-6419-42d9-c065-54cf394f13b1"
      },
      "source": [
        "import numpy as np\n",
        "import seaborn as sns\n",
        "import matplotlib.pylab as plt\n",
        "sns.set_theme()\n",
        "\n",
        "y1 = np.array([-1., 0.02832031, 0.09472656, 0.07226562, 0.19335938, 0.04296875, 0.01660156 ])\n",
        "y2 = np.array([-1., -0.01464844, -0.18554688, -0.26171875, -0.13769531, -0.15429688, -0.00683594])\n",
        "y3 = np.array([1., 0.07910156, 0.06152344, 0.16503906, 0.1015625,  0.00878906, 0.07324219])\n",
        "y4 = np.array([1., 0.53222656, 0.33300781, 0.21875,    0.25390625, 0.24023438, 0.53808594])\n",
        "data_set = np.array([y1,y2, y3, y4])\n",
        "ax = sns.heatmap(data_set  , cmap = 'coolwarm', vmin = -1.0, vmax = 1.0 )\n",
        "\n",
        "ax.set_xlabel(\"Jt\")\n",
        "ax.set_ylabel('sites')\n",
        "  \n",
        "plt.title( \"Magnetization for 4 Qubits\" )\n",
        "plt.show()"
      ],
      "execution_count": null,
      "outputs": [
        {
          "output_type": "display_data",
          "data": {
            "image/png": "[encoded data removed]",
            "text/plain": [
              "<Figure size 432x288 with 2 Axes>"
            ]
          },
          "metadata": {
            "tags": []
          }
        }
      ]
    }
  ]
}
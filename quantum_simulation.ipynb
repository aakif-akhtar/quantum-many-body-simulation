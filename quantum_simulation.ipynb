{
  "nbformat": 4,
  "nbformat_minor": 0,
  "metadata": {
    "kernelspec": {
      "display_name": "Python 3",
      "language": "python",
      "name": "python3"
    },
    "language_info": {
      "codemirror_mode": {
        "name": "ipython",
        "version": 3
      },
      "file_extension": ".py",
      "mimetype": "text/x-python",
      "name": "python",
      "nbconvert_exporter": "python",
      "pygments_lexer": "ipython3",
      "version": "3.8.10"
    },
    "colab": {
      "name": "quantum_simulation.ipynb",
      "provenance": [],
      "collapsed_sections": []
    }
  },
  "cells": [
    {
      "cell_type": "code",
      "metadata": {
        "id": "Upt326uJ0GpS"
      },
      "source": [
        "!pip install qiskit"
      ],
      "execution_count": null,
      "outputs": []
    },
    {
      "cell_type": "code",
      "metadata": {
        "id": "cuL7qDEg2IBI",
        "colab": {
          "base_uri": "https://localhost:8080/"
        },
        "outputId": "e83d9c62-e1c1-4607-a182-5a20731a863d"
      },
      "source": [
        "import qiskit\n",
        "# Enable your account on Qiskit, replace 'My_API_Token' with your newly generated token\n",
        "qiskit.IBMQ.save_account('ac05e244cf4e53e3842a230becc884bcd7395d0ebc42484e158085d7f8e6db097e404e65eea81c45dce182e8884414201434a248566c9ad7f30d8fb5629b4ceb')\n",
        "qiskit.IBMQ.load_account()\n",
        "# After loading credentials we query the backends\n",
        "# qiskit.IBMQ.backend()"
      ],
      "execution_count": null,
      "outputs": [
        {
          "output_type": "stream",
          "text": [
            "configrc.store_credentials:WARNING:2021-07-12 05:13:35,406: Credentials already present. Set overwrite=True to overwrite.\n",
            "ibmqfactory.load_account:WARNING:2021-07-12 05:13:35,730: Credentials are already in use. The existing account in the session will be replaced.\n"
          ],
          "name": "stderr"
        },
        {
          "output_type": "execute_result",
          "data": {
            "text/plain": [
              "<AccountProvider for IBMQ(hub='ibm-q', group='open', project='main')>"
            ]
          },
          "metadata": {
            "tags": []
          },
          "execution_count": 34
        }
      ]
    },
    {
      "cell_type": "code",
      "metadata": {
        "id": "VeGrdVZc1f3B",
        "colab": {
          "base_uri": "https://localhost:8080/"
        },
        "outputId": "f077aa28-b10f-4a9e-e54a-fe2d7e456594"
      },
      "source": [
        "%matplotlib inline\n",
        "import copy\n",
        "# Importing standard Qiskit libraries and configuring account\n",
        "from qiskit import QuantumCircuit, execute, Aer, IBMQ\n",
        "from qiskit.compiler import transpile, assemble\n",
        "from qiskit.tools.jupyter import *\n",
        "from qiskit.visualization import *\n",
        "# Loading your IBM Q account(s)\n",
        "provider = IBMQ.load_account()\n",
        "# svism = Aer.get_backend('statevector_simulator')\n",
        "# backend = 'simulator_statevetor'\n",
        "# backend"
      ],
      "execution_count": null,
      "outputs": [
        {
          "output_type": "stream",
          "text": [
            "ibmqfactory.load_account:WARNING:2021-07-12 05:13:38,246: Credentials are already in use. The existing account in the session will be replaced.\n"
          ],
          "name": "stderr"
        }
      ]
    },
    {
      "cell_type": "code",
      "metadata": {
        "id": "xqDnIY761f3I"
      },
      "source": [
        "from qiskit import QuantumRegister, ClassicalRegister, QuantumCircuit\n",
        "from qiskit.quantum_info.operators import Operator, Pauli\n",
        "from qiskit.extensions import RXGate, XGate, CXGate, ZGate, IGate\n",
        "\n",
        "from numpy import pi, sqrt\n",
        "import numpy as np\n",
        "import matplotlib.pyplot as plt"
      ],
      "execution_count": null,
      "outputs": []
    },
    {
      "cell_type": "code",
      "metadata": {
        "id": "XuZQS7NX1f3a"
      },
      "source": [
        "from qiskit import Aer\n",
        "from qiskit.providers.aer import AerSimulator\n",
        "\n",
        "backend = Aer.get_backend('qasm_simulator')"
      ],
      "execution_count": null,
      "outputs": []
    },
    {
      "cell_type": "code",
      "metadata": {
        "id": "mH7iCZq2kMWP"
      },
      "source": [
        "from qiskit.test.mock import FakeRueschlikon, FakeTokyo\n",
        "device_backend = FakeTokyo()\n",
        "device_backend_2 = FakeRueschlikon()\n"
      ],
      "execution_count": null,
      "outputs": []
    },
    {
      "cell_type": "code",
      "metadata": {
        "id": "WDr_M0PXkfti"
      },
      "source": [
        "backend = AerSimulator.from_backend(device_backend)"
      ],
      "execution_count": null,
      "outputs": []
    },
    {
      "cell_type": "code",
      "metadata": {
        "id": "zycMcu56C5Ee"
      },
      "source": [
        "parameters = {'label': 'fermi-hubbard model', 'time': 0.1, 'step': 1, 'chain': 'xxz-chain-potential'}\n",
        "alpha = {'theta_x': 0,'theta_y': 0, 'theta_z': 0, 'theta_rzz':0, 'gamma_1':0, 'gamma_2': 0 ,'gamma_3': 0}"
      ],
      "execution_count": null,
      "outputs": []
    },
    {
      "cell_type": "code",
      "metadata": {
        "id": "N1z1UtS01f3J"
      },
      "source": [
        "num_qubits = 2\n",
        "\n",
        "#Defining Registers for Suzuki-Trotter Simulation\n",
        "# qreg_q = QuantumRegister(num_qubits, 'q')\n",
        "# creg_c = ClassicalRegister(num_qubits, 'c')\n",
        "\n",
        "\n",
        "#Defining Registers for VFF\n",
        "qreg_q = QuantumRegister(num_qubits*2, 'q')\n",
        "creg_c = ClassicalRegister(num_qubits*2, 'c')\n",
        "\n",
        "def circuit2():\n",
        "  creg_c = ClassicalRegister(2, 'c')\n",
        "  circuit_2 = QuantumCircuit(qreg_q, creg_c)\n",
        "  return circuit_2\n",
        "# circuit = QuantumCircuit(qreg_q, creg_c)\n",
        "#Defining Registers for HST (i.e. F(T))\n",
        "# qreg_q_3 = QuantumRegister(num_qubits*2, 'q_3')\n",
        "# creg_c_3 = ClassicalRegister(num_qubits*2, 'c_3')\n",
        "def circuit3():\n",
        "  circuit_3 = QuantumCircuit(qreg_q, creg_c)\n",
        "  return circuit_3"
      ],
      "execution_count": null,
      "outputs": []
    },
    {
      "cell_type": "code",
      "metadata": {
        "id": "svXTgyQE1f3K"
      },
      "source": [
        "#Domain-Wall State preparation\n",
        "def domain_wall_state(circuit, num_qubits):\n",
        "    for i in range(int(num_qubits/2)):\n",
        "        circuit.x(qreg_q[i])\n",
        "    return circuit\n",
        "#Neel-State Prepapration\n",
        "def neel_state_preparation(circuit, num_qubits):\n",
        "    for i in range(num_qubits):\n",
        "        if i%2 == 0:\n",
        "            circuit.x(qreg_q[i])\n",
        "    return circuit"
      ],
      "execution_count": null,
      "outputs": []
    },
    {
      "cell_type": "code",
      "metadata": {
        "id": "vxEdSG321f3L",
        "colab": {
          "base_uri": "https://localhost:8080/"
        },
        "outputId": "dbd01e25-6132-4821-8eed-8565be937096"
      },
      "source": [
        "#Magnetization operator\n",
        "magnetization = Operator(ZGate())\n",
        "print('magnetization operator:\\n',magnetization.data)\n",
        "\n",
        "#N_half operator\n",
        "n_half = np.add(0.5*Operator(ZGate()).data,0.5*Operator(IGate()).data)\n",
        "print('\\nn_half operator:\\n',n_half)\n",
        "\n",
        "#spin-correlator operator\n"
      ],
      "execution_count": null,
      "outputs": [
        {
          "output_type": "stream",
          "text": [
            "magnetization operator:\n",
            " [[ 1.+0.j  0.+0.j]\n",
            " [ 0.+0.j -1.+0.j]]\n",
            "\n",
            "n_half operator:\n",
            " [[1.+0.j 0.+0.j]\n",
            " [0.+0.j 0.+0.j]]\n"
          ],
          "name": "stdout"
        }
      ]
    },
    {
      "cell_type": "code",
      "metadata": {
        "id": "iL5YjeNC1f3R"
      },
      "source": [
        "#XX-chain parameter U = 0 and h = 0 non-interacting molecule\n",
        "def XX_chain_parameters():\n",
        "    range_J = 10\n",
        "    U = 0.0\n",
        "    h = 0.0\n",
        "    J = np.array([i for i in range(range_J)])\n",
        "    return (J,U,h)\n",
        "# print(XX_chain_parameters())\n",
        "##Disordered XX-chain U=0 and h = [-h,h](randomly sampled from this set)\n",
        "def XX_disorder_chain_parameters():\n",
        "    range_J = 10\n",
        "    U = 0.0\n",
        "    h = np.concatenate((np.random.random_sample((5,))-1,np.random.random_sample((5,))), axis = None)\n",
        "    J = np.array([i+1 for i in range(range_J)])\n",
        "    return (J,U,h)\n",
        "#XXZ-spin chain  case of Hisenberg model for quantum magnetism\n",
        "# U != 0 , h = 0\n",
        "def XXZ_spin_chain_parameters():\n",
        "    range_J = 10\n",
        "    range_U = 5\n",
        "    h = 0.0\n",
        "    J = np.array([i for i in range(range_J)])\n",
        "    U = np.array([i for i in range(range_U)])\n",
        "    return (J,U,h)\n",
        "#XXZ- chain with linear potential U>=0, h = h*j\n",
        "def XXZ_chain_potential_parameters(num_qubits):\n",
        "    range_J = 10\n",
        "    range_U = 5\n",
        "    J = np.array([i for i in range(range_J)])\n",
        "    U = np.array([i for i in range(range_U)])\n",
        "    h = np.concatenate((np.random.random_sample((5,))-1,np.random.random_sample((5,))), axis = None)\n",
        "    for j in range(num_qubits):\n",
        "        h[j] = h[j]*j\n",
        "    \n",
        "    return (J,U,h)"
      ],
      "execution_count": null,
      "outputs": []
    },
    {
      "cell_type": "code",
      "metadata": {
        "id": "lGbmfPrB1f3T"
      },
      "source": [
        "\n",
        "def circuit_a_j(circuit,qubit_index, h, time):\n",
        "    circuit.barrier()\n",
        "    circuit.rz((h*time)/2,qreg_q[qubit_index])\n",
        "    circuit.barrier()\n",
        "    return circuit\n",
        "def circuit_b_j(circuit, qubit_index, U, J, time ):\n",
        "    #circuit for sigma_zz\n",
        "    circuit.barrier()\n",
        "    circuit.cx(qreg_q[qubit_index], qreg_q[qubit_index+1])\n",
        "    circuit.rz((U*time)/2, qreg_q[qubit_index+1])\n",
        "    circuit.cx(qreg_q[qubit_index],qreg_q[qubit_index+1])\n",
        "    circuit.barrier()\n",
        "    #circuit for sigma_yy\n",
        "    circuit.cx(qreg_q[qubit_index], qreg_q[qubit_index+1])\n",
        "    circuit.cu3((J*time)/2, -pi/2, pi/2, qreg_q[qubit_index+1], qreg_q[qubit_index] )\n",
        "    circuit.x(qreg_q[qubit_index+1] )\n",
        "    circuit.cu3((J*time)/2, pi/2, -pi/2, qreg_q[qubit_index+1], qreg_q[qubit_index])\n",
        "    circuit.x(qreg_q[qubit_index+1] )\n",
        "    circuit.cx(qreg_q[qubit_index], qreg_q[qubit_index+1] )\n",
        "    #circuit for sigma_xx\n",
        "    circuit.barrier()\n",
        "    circuit.cx(qreg_q[qubit_index], qreg_q[qubit_index+1])\n",
        "    circuit.u3((-J*time)/2, -pi/2, pi/2, qreg_q[qubit_index])\n",
        "    circuit.cx(qreg_q[qubit_index], qreg_q[qubit_index+1])\n",
        "    circuit.barrier()\n",
        "    return circuit\n",
        "def circuit_c_j(circuit, qubit_index, U, J, time):\n",
        "    #circuit for sigma_zz\n",
        "    circuit.barrier()\n",
        "    circuit.cx(qreg_q[qubit_index], qreg_q[qubit_index+1])\n",
        "    circuit.rz((U*time), qreg_q[qubit_index+1])\n",
        "    circuit.cx(qreg_q[qubit_index],qreg_q[qubit_index+1])\n",
        "    circuit.barrier()\n",
        "    #circuit for sigma_yy\n",
        "    circuit.cx(qreg_q[qubit_index], qreg_q[qubit_index+1])\n",
        "    circuit.cu3((J*time), -pi/2, pi/2, qreg_q[qubit_index+1], qreg_q[qubit_index] )\n",
        "    circuit.x(qreg_q[qubit_index+1] )\n",
        "    circuit.cu3((J*time), pi/2, -pi/2, qreg_q[qubit_index+1], qreg_q[qubit_index])\n",
        "    circuit.x(qreg_q[qubit_index+1] )\n",
        "    circuit.cx(qreg_q[qubit_index], qreg_q[qubit_index+1] )\n",
        "    #circuit for sigma_xx\n",
        "    circuit.barrier()\n",
        "    circuit.cx(qreg_q[qubit_index], qreg_q[qubit_index+1])\n",
        "    circuit.u3((-J*time), -pi/2, pi/2, qreg_q[qubit_index])\n",
        "    circuit.cx(qreg_q[qubit_index], qreg_q[qubit_index+1])\n",
        "    circuit.barrier()\n",
        "    return circuit\n",
        "\n",
        "# circuit.draw('mpl')"
      ],
      "execution_count": null,
      "outputs": []
    },
    {
      "cell_type": "code",
      "metadata": {
        "id": "NUwCq-Qd1f3V"
      },
      "source": [
        "def circuit_for_magnetization(circuit, time, step, num_qubits):\n",
        "    for j in range(step):\n",
        "        for i in range(num_qubits):\n",
        "            J,U,h = XX_chain_parameters()\n",
        "            circuit_a_j(circuit, i, h, time)\n",
        "            if i%2 == 0:\n",
        "                circuit_c_j(circuit, i, U, J[1], time)\n",
        "            elif i%2 != 0 and i != num_qubits - 1 :\n",
        "                circuit_b_j(circuit, i, U, J[1], time)\n",
        "            circuit_a_j(circuit, i, h, time)\n",
        "    return circuit"
      ],
      "execution_count": null,
      "outputs": []
    },
    {
      "cell_type": "code",
      "metadata": {
        "id": "sncizOdn1f3W"
      },
      "source": [
        "def circuit_for_n_half(circuit, time, step, num_qubits, chain):\n",
        "    for j in range(step):\n",
        "        if chain == 'xx-disordered':\n",
        "            for i in range(num_qubits):\n",
        "                J,U,h = XX_disorder_chain_parameters()\n",
        "                circuit_a_j(circuit, i, h[i], time)\n",
        "                if i%2 == 0:\n",
        "                    circuit_c_j(circuit, i, U, J[1], time)\n",
        "                elif i%2 != 0 and i != num_qubits - 1:\n",
        "                    circuit_b_j(circuit, i, U, J[1], time)\n",
        "                circuit_a_j(circuit, i, h, time)\n",
        "        elif chain == 'xxz-spin-chain':\n",
        "            for i in range(num_qubits):\n",
        "                J,U,h = XXZ_spin_chain_parameters()\n",
        "                circuit_a_j(circuit, i, h, time)\n",
        "                if i%2 == 0:\n",
        "                    circuit_c_j(circuit, i, U[2], J[1], time)\n",
        "                elif i%2 != 0 and i != num_qubits - 1:\n",
        "                    circuit_b_j(circuit, i, U[2], J[1], time)\n",
        "                circuit_a_j(circuit, i, h, time)\n",
        "        elif chain == 'xxz-chain-potential':\n",
        "            for i in range(num_qubits):\n",
        "                J,U,h = XXZ_chain_potential_parameters(num_qubits)\n",
        "                circuit_a_j(circuit, i, h[i], time)\n",
        "                if i%2 == 0:\n",
        "                    circuit_c_j(circuit, i, U[2], J[1], time)\n",
        "                elif i%2 != 0 and i != num_qubits - 1:\n",
        "                    circuit_b_j(circuit, i, U[2], J[1], time)\n",
        "                circuit_a_j(circuit, i, h[i], time)\n",
        "    return circuit        \n",
        "        "
      ],
      "execution_count": null,
      "outputs": []
    },
    {
      "cell_type": "code",
      "metadata": {
        "id": "xIkfN2oXmMz3"
      },
      "source": [
        "def ansatz_for_W(circuit_2, num_qubits, alpha):\n",
        "\n",
        "  for i in range(num_qubits):\n",
        "    ####### First Layer of W(theta) ######\n",
        "        \n",
        "    circuit_2.rx(alpha['theta_x'],qreg_q[num_qubits + i])\n",
        "    circuit_2.ry(alpha['theta_y'],qreg_q[num_qubits + i])\n",
        "    circuit_2.rz(alpha['theta_z'],qreg_q[num_qubits + i])\n",
        "  for i in range(num_qubits):\n",
        "\n",
        "    ##### Second Sub-Layer for W(theta) ########\n",
        "    if i % 2 != 0 :\n",
        "      if i == num_qubits - 1:\n",
        "        circuit_2.rzz(alpha['theta_rzz'], qreg_q[num_qubits + i], qreg_q[num_qubits])\n",
        "      else:\n",
        "        circuit_2.rzz(alpha['theta_rzz'], qreg_q[num_qubits + i], qreg_q[num_qubits + (i+1)])\n",
        "\n",
        "    ##### Third Sub-Layer for W(theta) ########\n",
        "    elif i % 2 == 0 :\n",
        "      if i == num_qubits - 1:\n",
        "        circuit_2.rzz(alpha['theta_rzz'], qreg_q[num_qubits + i], qreg_q[num_qubits])\n",
        "      else:\n",
        "        circuit_2.rzz(alpha['theta_rzz'], qreg_q[num_qubits + i], qreg_q[num_qubits + (i+1)])\n",
        "  for i in range(num_qubits):\n",
        "\n",
        "    ##### Final Single-Qubit layer of W(theta)####\n",
        "    circuit_2.rx(alpha['theta_x'],qreg_q[num_qubits + i])\n",
        "    circuit_2.ry(alpha['theta_y'],qreg_q[num_qubits + i])\n",
        "    circuit_2.rz(alpha['theta_z'],qreg_q[num_qubits + i])\n",
        "\n",
        "  return circuit_2"
      ],
      "execution_count": null,
      "outputs": []
    },
    {
      "cell_type": "code",
      "metadata": {
        "id": "GfKCcYa_6kYV"
      },
      "source": [
        "def ansatz_for_W_conjugate(circuit_2, num_qubits, alpha):\n",
        "  for i in range(num_qubits):\n",
        "\n",
        "    ###### First Sub-Layer for W(theta)_conjugate ########\n",
        "    circuit_2.rx(-alpha['theta_x'],qreg_q[num_qubits + i])\n",
        "    circuit_2.ry(-alpha['theta_y'], qreg_q[num_qubits + i])\n",
        "    circuit_2.rz(-alpha['theta_z'],qreg_q[num_qubits + i])\n",
        "  for i in range(num_qubits):\n",
        "\n",
        "    ##### Second Sub-Layer for W(theta)_conjugate ########\n",
        "    if i % 2 != 0:\n",
        "      if i == num_qubits - 1:\n",
        "        circuit_2.rzz(-alpha['theta_rzz'],qreg_q[num_qubits + i], qreg_q[num_qubits])\n",
        "      else:\n",
        "        circuit_2.rzz(-alpha['theta_rzz'],qreg_q[num_qubits + i], qreg_q[num_qubits + (i+1)])\n",
        "\n",
        "    ##### Third Sub-Layer for W(theta)_conjugate ########\n",
        "    elif i % 2 == 0:\n",
        "      if i == num_qubits - 1:\n",
        "        circuit_2.rzz(-alpha['theta_rzz'], qreg_q[num_qubits + i], qreg_q[num_qubits])\n",
        "      else:\n",
        "        circuit_2.rzz(-alpha['theta_rzz'], qreg_q[num_qubits + i], qreg_q[num_qubits + (i+1)])\n",
        "  for i in range(num_qubits):\n",
        "\n",
        "    ##### Final Single-Qubit layer of W(theta)_conjugate ####\n",
        "    circuit_2.rz(-alpha['theta_z'],qreg_q[num_qubits + i])\n",
        "    circuit_2.ry(-alpha['theta_y'], qreg_q[num_qubits + i])\n",
        "    circuit_2.rx(-alpha['theta_x'],qreg_q[num_qubits + i])\n",
        "\n",
        "  return circuit_2"
      ],
      "execution_count": null,
      "outputs": []
    },
    {
      "cell_type": "code",
      "metadata": {
        "id": "8Cb51MxvrlpB"
      },
      "source": [
        "def ansatz_for_D(circuit_2, num_qubits, alpha):\n",
        "  for i in range(num_qubits):\n",
        "\n",
        "    ##### Firt Sub- Layer for D(alpha['gamma'], T) #######\n",
        "          \n",
        "    circuit_2.rz(alpha['gamma_3'], qreg_q[num_qubits + i])\n",
        "    circuit_2.z(qreg_q[num_qubits + i])\n",
        "    circuit_2.z(qreg_q[num_qubits + i])\n",
        "  for i in range(num_qubits):\n",
        "\n",
        "    ##### Second Sub - Layer for D(alpha['gamma', T]) ######\n",
        "    if i == num_qubits - 1:\n",
        "      circuit_2.rzz(alpha['gamma_2'], qreg_q[num_qubits + i], qreg_q[num_qubits])\n",
        "    else:\n",
        "      circuit_2.rzz(alpha['gamma_2'], qreg_q[num_qubits + i], qreg_q[num_qubits + (i+1)])\n",
        "  for i in range(num_qubits):\n",
        "    \n",
        "    ######## Third Sub-Layer for D(alpha['gamma'], T) ########\n",
        "    \n",
        "    \n",
        "    circuit_2.rz(alpha['gamma_1'], qreg_q[num_qubits + i])\n",
        "\n",
        "  return circuit_2\n"
      ],
      "execution_count": null,
      "outputs": []
    },
    {
      "cell_type": "code",
      "metadata": {
        "id": "9VC3K2l-1f3M"
      },
      "source": [
        "def entanglement_fidelity(circuit_2, num_qubits, parameters, alpha):\n",
        "    label = parameters['label']\n",
        "    for i in range(num_qubits):\n",
        "        circuit_2.h(qreg_q[i])\n",
        "        circuit_2.cx(qreg_q[i], qreg_q[num_qubits + i])\n",
        "    #unitary creation from suzuki-trotterization\n",
        "    # qreg_q = QuantumRegister(num_qubits, 'q')\n",
        "    # creg_c = ClassicalRegister(num_qubits, 'c')\n",
        "    # temp_circuit = QuantumCircuit(qreg_q, creg_c)\n",
        "\n",
        "    if label == 'magnetization':\n",
        "\n",
        "        circuit_for_magnetization(circuit_2, parameters['time'], parameters['step'], num_qubits)\n",
        "        # circuit_2.draw('text', scale = 0.25, plot_barriers=False, fold=-1)\n",
        "    elif label == 'n_half':\n",
        "        circuit_for_n_half(circuit_2, parameters['time'], parameters['step'], num_qubits, parameters['chain'])\n",
        "    elif label == 'spin-correlator':\n",
        "        pass\n",
        "    elif label == 'quantum-fisher-information':\n",
        "        pass\n",
        "    elif label == 'fermi-hubbard model':\n",
        "      circuit_2.u3(pi, pi, 0, qreg_q[0])\n",
        "      circuit_2.u3(pi, pi, 0, qreg_q[1])\n",
        "      circuit_2.u1(0, qreg_q[0])\n",
        "      circuit_2.u1(0, qreg_q[1])\n",
        "    #ansastz creation for V_conjugate\n",
        "    # for i in range(num_qubits):\n",
        "\n",
        "    ###### W(theta)_dagger_conjugate  #######\n",
        "    ansatz_for_W(circuit_2, num_qubits, alpha)\n",
        "\n",
        "    ###### D(alpha['gamma'])_conjugate #######\n",
        "    alpha_D = copy.deepcopy(alpha)\n",
        "    alpha_D['gamma_1'] = -alpha_D['gamma_1']\n",
        "    alpha_D['gamma_2'] = -alpha_D['gamma_2']\n",
        "    alpha_D['gamma_3'] = -alpha_D['gamma_3']\n",
        "    ansatz_for_D(circuit_2, num_qubits, alpha_D)\n",
        "\n",
        "    ###### W(theta)_conjugate ########\n",
        "    alpha_W_conjugate = copy.deepcopy(alpha)\n",
        "    alpha_W_conjugate['theta_x'] = -alpha_W_conjugate['theta_x']\n",
        "    alpha_W_conjugate['theta_y'] = -alpha_W_conjugate['theta_y']\n",
        "    alpha_W_conjugate['theta_z'] = -alpha_W_conjugate['theta_z']\n",
        "    alpha_W_conjugate['theta_rzz'] = -alpha_W_conjugate['theta_rzz']\n",
        "    ansatz_for_W_conjugate(circuit_2, num_qubits, alpha_W_conjugate)\n",
        "\n",
        "        # ####### First Layer of W(theta)_dagger_conjugate ######\n",
        "\n",
        "        # circuit_2.x(qreg_q[num_qubits + i])\n",
        "        # circuit_2.y(qreg_q[num_qubits + i])\n",
        "        # circuit_2.z(qreg_q[num_qubits + i])\n",
        "        \n",
        "        # ##### Second Sub-Layer for W(theta)_dagger_conjugate ########\n",
        "        # if i % 2 != 0:\n",
        "        #     circuit_2.cx(qreg_q[num_qubits + i], qreg_q[num_qubits + (i+1)])\n",
        "        # ##### Third Sub-Layer for W(theta)_dagger_conjugate ########\n",
        "        # elif i % 2 == 0:\n",
        "        #     circuit_2.rzz(alpha['theta'], qreg_q[num_qubits + i], qreg_q[num_qubits + (i+1)])\n",
        "\n",
        "        # ##### Final Single-Qubit layer of W(theta)_dagger_conjugate ####\n",
        "        # circuit_2.z(qreg_q[num_qubits + i])\n",
        "        # circuit_2.y(qreg_q[num_qubits + i])\n",
        "        # circuit_2.x(qreg_q[num_qubits + i])\n",
        "    \n",
        "        # ##### Firt Sub- Layer for D(alpha['gamma'], T)_conjugate #######\n",
        "        \n",
        "        # circuit_2.rz(-alpha['gamma'], qreg_q[num_qubits + i])\n",
        "        # circuit_2.z(qreg_q[num_qubits + i])\n",
        "        # circuit_2.z(qreg_q[num_qubits + i])\n",
        "        \n",
        "        # ##### Second Sub - Layer for D(alpha['gamma', T])_conjugate ######\n",
        "        \n",
        "        # circuit_2.rzz(-alpha['gamma'], qreg_q[num_qubits + i], qreg_q[num_qubits + (i+1)])\n",
        "        \n",
        "        # ######## Third Sub-Layer for D(alpha['gamma'], T)_conjugate ########\n",
        "        \n",
        "        \n",
        "        # circuit_2.rz(-alpha['gamma'], qreg_q[num_qubits + i])\n",
        "        \n",
        "        # ###### First Sub-Layer for W(theta)_conjugate ########\n",
        "        # circuit_2.x(qreg_q[num_qubits + i])\n",
        "        # circuit_2.u3(pi/2, 5*pi/2, 5*pi/2, qreg_q[num_qubits + i])\n",
        "        # circuit_2.z(qreg_q[num_qubits + i])\n",
        "        # ##### Second Sub-Layer for W(theta)_conjugate ########\n",
        "        # if i % 2 != 0:\n",
        "        #     circuit_2.cx(qreg_q[num_qubits + i], qreg_q[num_qubits + (i+1)])\n",
        "        # ##### Third Sub-Layer for W(theta)_conjugate ########\n",
        "        # elif i % 2 == 0:\n",
        "        #     circuit_2.rzz(-alpha['theta'], qreg_q[num_qubits + i], qreg_q[num_qubits + (i+1)])\n",
        "\n",
        "        # ##### Final Single-Qubit layer of W(theta)_conjugate ####\n",
        "        #     circuit_2.z(qreg_q[num_qubits + i])\n",
        "        #     circuit_2.u3(pi/2, 5*pi/2, 5*pi/2, qreg_q[num_qubits + i])\n",
        "        #     circuit_2.x(qreg_q[num_qubits + i])\n",
        "            \n",
        "    return circuit_2\n",
        "    \n",
        "        "
      ],
      "execution_count": null,
      "outputs": []
    },
    {
      "cell_type": "code",
      "metadata": {
        "id": "Hf2Nna9hgpS_",
        "colab": {
          "base_uri": "https://localhost:8080/",
          "height": 202
        },
        "outputId": "7fa3fd24-2a93-46da-b6ab-2fe8a3f74833"
      },
      "source": [
        "x = entanglement_fidelity(circuit2(), num_qubits, parameters, alpha)\n",
        "x.draw('text', scale = 0.25, plot_barriers = False, fold = -1)"
      ],
      "execution_count": null,
      "outputs": [
        {
          "output_type": "execute_result",
          "data": {
            "text/html": [
              "<pre style=\"word-wrap: normal;white-space: pre;background: #fff0;line-height: 1.1;font-family: &quot;Courier New&quot;,Courier,monospace\">     ┌───┐     ┌───────────┐  ┌───────┐                                                                                                                                                                                 \n",
              "q_0: ┤ H ├──■──┤ U3(π,π,0) ├──┤ U1(0) ├─────────────────────────────────────────────────────────────────────────────────────────────────────────────────────────────────────────────────────────────────────────────────\n",
              "     ├───┤  │  └───────────┘┌─┴───────┴─┐┌───────┐                                                                                                                                                                      \n",
              "q_1: ┤ H ├──┼────────■──────┤ U3(π,π,0) ├┤ U1(0) ├──────────────────────────────────────────────────────────────────────────────────────────────────────────────────────────────────────────────────────────────────────\n",
              "     └───┘┌─┴─┐      │      └─┬───────┬─┘├───────┤┌───────┐                ┌───────┐┌───────┐┌───────┐┌───────┐┌───┐┌───┐                ┌───────┐┌───────┐┌───────┐┌───────┐                ┌───────┐┌───────┐┌───────┐\n",
              "q_2: ─────┤ X ├──────┼────────┤ RX(0) ├──┤ RY(0) ├┤ RZ(0) ├─■───────■──────┤ RX(0) ├┤ RY(0) ├┤ RZ(0) ├┤ RZ(0) ├┤ Z ├┤ Z ├─■───────■──────┤ RZ(0) ├┤ RX(0) ├┤ RY(0) ├┤ RZ(0) ├─■───────■──────┤ RZ(0) ├┤ RY(0) ├┤ RX(0) ├\n",
              "          └───┘    ┌─┴─┐      ├───────┤  ├───────┤├───────┤ │ZZ(0)  │ZZ(0) ├───────┤├───────┤├───────┤├───────┤├───┤├───┤ │ZZ(0)  │ZZ(0) ├───────┤├───────┤├───────┤├───────┤ │ZZ(0)  │ZZ(0) ├───────┤├───────┤├───────┤\n",
              "q_3: ──────────────┤ X ├──────┤ RX(0) ├──┤ RY(0) ├┤ RZ(0) ├─■───────■──────┤ RX(0) ├┤ RY(0) ├┤ RZ(0) ├┤ RZ(0) ├┤ Z ├┤ Z ├─■───────■──────┤ RZ(0) ├┤ RX(0) ├┤ RY(0) ├┤ RZ(0) ├─■───────■──────┤ RZ(0) ├┤ RY(0) ├┤ RX(0) ├\n",
              "                   └───┘      └───────┘  └───────┘└───────┘                └───────┘└───────┘└───────┘└───────┘└───┘└───┘                └───────┘└───────┘└───────┘└───────┘                └───────┘└───────┘└───────┘\n",
              "c: 2/═══════════════════════════════════════════════════════════════════════════════════════════════════════════════════════════════════════════════════════════════════════════════════════════════════════════════════\n",
              "                                                                                                                                                                                                                        </pre>"
            ],
            "text/plain": [
              "     ┌───┐     ┌───────────┐  ┌───────┐                                                                                                                                                                                 \n",
              "q_0: ┤ H ├──■──┤ U3(π,π,0) ├──┤ U1(0) ├─────────────────────────────────────────────────────────────────────────────────────────────────────────────────────────────────────────────────────────────────────────────────\n",
              "     ├───┤  │  └───────────┘┌─┴───────┴─┐┌───────┐                                                                                                                                                                      \n",
              "q_1: ┤ H ├──┼────────■──────┤ U3(π,π,0) ├┤ U1(0) ├──────────────────────────────────────────────────────────────────────────────────────────────────────────────────────────────────────────────────────────────────────\n",
              "     └───┘┌─┴─┐      │      └─┬───────┬─┘├───────┤┌───────┐                ┌───────┐┌───────┐┌───────┐┌───────┐┌───┐┌───┐                ┌───────┐┌───────┐┌───────┐┌───────┐                ┌───────┐┌───────┐┌───────┐\n",
              "q_2: ─────┤ X ├──────┼────────┤ RX(0) ├──┤ RY(0) ├┤ RZ(0) ├─■───────■──────┤ RX(0) ├┤ RY(0) ├┤ RZ(0) ├┤ RZ(0) ├┤ Z ├┤ Z ├─■───────■──────┤ RZ(0) ├┤ RX(0) ├┤ RY(0) ├┤ RZ(0) ├─■───────■──────┤ RZ(0) ├┤ RY(0) ├┤ RX(0) ├\n",
              "          └───┘    ┌─┴─┐      ├───────┤  ├───────┤├───────┤ │ZZ(0)  │ZZ(0) ├───────┤├───────┤├───────┤├───────┤├───┤├───┤ │ZZ(0)  │ZZ(0) ├───────┤├───────┤├───────┤├───────┤ │ZZ(0)  │ZZ(0) ├───────┤├───────┤├───────┤\n",
              "q_3: ──────────────┤ X ├──────┤ RX(0) ├──┤ RY(0) ├┤ RZ(0) ├─■───────■──────┤ RX(0) ├┤ RY(0) ├┤ RZ(0) ├┤ RZ(0) ├┤ Z ├┤ Z ├─■───────■──────┤ RZ(0) ├┤ RX(0) ├┤ RY(0) ├┤ RZ(0) ├─■───────■──────┤ RZ(0) ├┤ RY(0) ├┤ RX(0) ├\n",
              "                   └───┘      └───────┘  └───────┘└───────┘                └───────┘└───────┘└───────┘└───────┘└───┘└───┘                └───────┘└───────┘└───────┘└───────┘                └───────┘└───────┘└───────┘\n",
              "c: 2/═══════════════════════════════════════════════════════════════════════════════════════════════════════════════════════════════════════════════════════════════════════════════════════════════════════════════════\n",
              "                                                                                                                                                                                                                        "
            ]
          },
          "metadata": {
            "tags": []
          },
          "execution_count": 130
        }
      ]
    },
    {
      "cell_type": "code",
      "metadata": {
        "id": "Y6P0f7WJ1f3P"
      },
      "source": [
        "def average_gate_fidelity(circuit_3, num_qubits, parameters, alpha):\n",
        "    # qreg_q = QuantumRegister(num_qubits*2, 'q_2')\n",
        "    # creg_c_2 = ClassicalRegister(num_qubits*2, 'c_2')\n",
        "    # temp_circuit = QuantumCircuit(qreg_q, creg_c_2)\n",
        "\n",
        "    entanglement_fidelity(circuit_3, num_qubits, parameters, alpha)\n",
        "    for i in range(num_qubits):\n",
        "        circuit_3.cx(qreg_q[i], qreg_q[num_qubits + i])\n",
        "        circuit_3.h(qreg_q[i])\n",
        "\n",
        "    circuit_3.measure(qreg_q[:], creg_c[:])\n",
        "    # circuit_3.draw('text', scale = 0.25, plot_barriers = False, fold = -1)\n",
        "    return circuit_3\n",
        "        \n",
        "        \n",
        "    "
      ],
      "execution_count": null,
      "outputs": []
    },
    {
      "cell_type": "code",
      "metadata": {
        "id": "Cd1PLpE7g_PQ"
      },
      "source": [
        "# shots = 2048\n",
        "# lhst = 0\n",
        "# for i in range(num_qubits):\n",
        "#   # temp_q = QuantumRegister(num_qubits*2, 'temp_q')\n",
        "#   # temp_c = ClassicalRegister(num_qubits*2, 'temp_c')\n",
        "#   # temp_circuit = QuantumCircuit(temp_q, temp_c)\n",
        "#   creg_c = ClassicalRegister(num_qubits, 'c')\n",
        "#   temp_circuit = circuit2()\n",
        "#   temp_circuit = entanglement_fidelity(temp_circuit, num_qubits, parameters, alpha)\n",
        "#   temp_circuit.h(qreg_q[i])\n",
        "#   temp_circuit.cx(qreg_q[i],qreg_q[num_qubits + i])\n",
        "#   temp_circuit.measure([qreg_q[i], qreg_q[num_qubits + i]], creg_c[:])\n",
        "\n",
        "#   t_qc = transpile(temp_circuit, backend, optimization_level=3)\n",
        "#   qobj = assemble(t_qc, shots = shots)\n",
        "#   job = backend.run(qobj)\n",
        "#   result = job.result()\n",
        "#   counts = result.get_counts(temp_circuit)\n",
        "#   print(counts)\n",
        "#   # plot_histogram(result.get_counts(temp_circuit))\n",
        "\n",
        "# #   probs = {}\n",
        "# #   for output in ['00','01', '10', '11']:\n",
        "# #       if output in counts:\n",
        "# #           probs[output] = counts[output]/shots\n",
        "# #       else:\n",
        "# #           probs[output] = 0\n",
        "# #   lhst += probs['00']\n",
        "# # cost_lhst = 1 - lhst/num_qubits\n",
        "# temp_circuit.draw('text', scale = 0.25, plot_barriers=False, fold=-1)\n"
      ],
      "execution_count": null,
      "outputs": []
    },
    {
      "cell_type": "code",
      "metadata": {
        "id": "pW8xa61bhDG2"
      },
      "source": [
        "def compute_LHST( num_qubits, parameters, alpha):\n",
        "  shots = 2048\n",
        "  lhst = 0\n",
        "  for i in range(num_qubits):\n",
        "    # temp_q = QuantumRegister(num_qubits*2, 'temp_q')\n",
        "    # temp_c = ClassicalRegister(num_qubits*2, 'temp_c')\n",
        "    # temp_circuit = QuantumCircuit(temp_q, temp_c)\n",
        "    creg_c = ClassicalRegister(2, 'c')\n",
        "    temp_circuit = circuit2()\n",
        "    temp_circuit = entanglement_fidelity(temp_circuit, num_qubits, parameters, alpha)\n",
        "    temp_circuit.h(qreg_q[i])\n",
        "    temp_circuit.cx(qreg_q[i],qreg_q[num_qubits + i])\n",
        "    temp_circuit.measure([qreg_q[i], qreg_q[num_qubits + i]], creg_c[:])\n",
        "\n",
        "\n",
        "    t_qc = transpile(temp_circuit, backend, optimization_level=3)\n",
        "    qobj = assemble(t_qc, shots = shots)\n",
        "    job = backend.run(qobj)\n",
        "\n",
        "    result = job.result()\n",
        "    counts = result.get_counts(temp_circuit)\n",
        "    plot_histogram(counts)\n",
        "    probs = {}\n",
        "    for output in ['00','01', '10', '11']:\n",
        "        if output in counts:\n",
        "            probs[output] = counts[output]/shots\n",
        "        else:\n",
        "            probs[output] = 0\n",
        "    lhst += probs['00']\n",
        "  cost_lhst = 1 - lhst/num_qubits \n",
        "\n",
        "  return cost_lhst\n"
      ],
      "execution_count": null,
      "outputs": []
    },
    {
      "cell_type": "code",
      "metadata": {
        "id": "Qklijm4M-raU"
      },
      "source": [
        "# cost_lhst = compute_LHST( num_qubits, parameters, alpha)\n",
        "# print(cost_lhst)"
      ],
      "execution_count": null,
      "outputs": []
    },
    {
      "cell_type": "code",
      "metadata": {
        "id": "kTRLkhVfqV6Q"
      },
      "source": [
        "# shots = 2048\n",
        "# avg_gate_fidelity = 0\n",
        "# d = 2**(num_qubits)\n",
        "\n",
        "# # temp_q = QuantumRegister(num_qubits*2, 'temp_q')\n",
        "# # temp_c = ClassicalRegister(num_qubits*2, 'temp_c')\n",
        "# # temp_circuit = QuantumCircuit(temp_q, temp_c)\n",
        "# temp_circuit = circuit_3\n",
        "\n",
        "# temp_circuit = average_gate_fidelity(temp_circuit, num_qubits, parameters, alpha)\n",
        "\n",
        "# t_qc = transpile(temp_circuit, backend, optimization_level=3)\n",
        "# qobj = assemble(t_qc, shots = shots)\n",
        "# job = backend.run(qobj)\n",
        "\n",
        "# result = job.result()\n",
        "# counts = result.get_counts(temp_circuit)\n",
        "# print(counts)\n",
        "# probs = {}\n",
        "\n",
        "# output = '0'\n",
        "# for i in range(num_qubits*2 - 1):\n",
        "#   output += '0'\n",
        "    \n",
        "# if output in counts:\n",
        "#     probs[output] = counts[output]/shots\n",
        "# else:\n",
        "#     probs[output] = 0\n",
        "  \n",
        "# cost_hst = 1 - probs[output]\n",
        "# avg_gate_fidelity = (d*(1 - cost_hst) + 1)/(d + 1)"
      ],
      "execution_count": null,
      "outputs": []
    },
    {
      "cell_type": "code",
      "metadata": {
        "id": "xu6SpcghhDeN"
      },
      "source": [
        "def compute_avg_gate_fidelity(circuit_3, num_qubits, parameters, alpha):\n",
        "  shots = 2048\n",
        "  avg_gate_fidelity = 0\n",
        "  d = 2**(num_qubits)\n",
        "\n",
        "  # temp_q = QuantumRegister(num_qubits*2, 'temp_q')\n",
        "  # temp_c = ClassicalRegister(num_qubits*2, 'temp_c')\n",
        "  # temp_circuit = QuantumCircuit(temp_q, temp_c)\n",
        "  temp_circuit = circuit_3\n",
        "\n",
        "  temp_circuit = average_gate_fidelity(temp_circuit, num_qubits, parameters, alpha)\n",
        "  \n",
        "  t_qc = transpile(temp_circuit, backend, optimization_level=3)\n",
        "  qobj = assemble(t_qc, shots = shots)\n",
        "  job = backend.run(qobj)\n",
        "\n",
        "  result = job.result()\n",
        "  counts = result.get_counts(temp_circuit)\n",
        "  probs = {}\n",
        "\n",
        "  output = '0'\n",
        "  for i in range(num_qubits*2 - 1):\n",
        "    output += '0'\n",
        "      \n",
        "  if output in counts:\n",
        "      probs[output] = counts[output]/shots\n",
        "  else:\n",
        "      probs[output] = 0\n",
        "    \n",
        "  cost_hst = 1 - probs[output]\n",
        "  avg_gate_fidelity = (d*(1 - cost_hst) + 1)/(d + 1)\n",
        "  \n",
        "\n",
        "  return avg_gate_fidelity, temp_circuit\n"
      ],
      "execution_count": null,
      "outputs": []
    },
    {
      "cell_type": "code",
      "metadata": {
        "id": "3J7idK5ua1fy"
      },
      "source": [
        "def cost_threshold( num_qubits, parameters, alpha):\n",
        "  d = 2**(num_qubits)\n",
        "  temp_parameters = copy.deepcopy(parameters)\n",
        "  temp_parameters['step'] = 50\n",
        "  epsilon_trotter_error = 0\n",
        "  N = temp_parameters['step']  # no of time the unitaries are exponentiated\n",
        "  avg_gate_fidelity, temp_circuit = compute_avg_gate_fidelity(circuit3(), num_qubits, temp_parameters, alpha)\n",
        "  \n",
        "  c_threshold = (1/num_qubits)*(((1/N)*(((d + 1)*(1 - avg_gate_fidelity))/d)**(0.5) - epsilon_trotter_error)**2)\n",
        "\n",
        "  return c_threshold, temp_circuit\n",
        "  "
      ],
      "execution_count": null,
      "outputs": []
    },
    {
      "cell_type": "code",
      "metadata": {
        "colab": {
          "base_uri": "https://localhost:8080/"
        },
        "id": "S16ga8z19TSG",
        "outputId": "dd457763-2cf8-4806-d806-b8039c558891"
      },
      "source": [
        "c_threshold, temp_circuit = cost_threshold(num_qubits, parameters, alpha)\n",
        "print(c_threshold)\n",
        "# temp_circuit.draw('text', scale = 0.25, plot_barriers = False, fold = -1)"
      ],
      "execution_count": null,
      "outputs": [
        {
          "output_type": "stream",
          "text": [
            "0.00019521484375\n"
          ],
          "name": "stdout"
        }
      ]
    },
    {
      "cell_type": "code",
      "metadata": {
        "id": "OaS99jhmlG0z"
      },
      "source": [
        "def W_plus_minus_x(label, alpha):\n",
        "  \n",
        "  if label == '+':\n",
        "    alpha['theta_x'] = alpha['theta_x'] + pi/2\n",
        "  elif label == '-':\n",
        "    alpha['theta_x'] = alpha['theta_x'] - pi/2\n",
        "  \n",
        "  return alpha\n",
        "\n",
        "def W_plus_minus_y(label, alpha):\n",
        "  \n",
        "  if label == '+':\n",
        "    alpha['theta_y'] = alpha['theta_y'] + pi/2\n",
        "  elif label == '-':\n",
        "    alpha['theta_y'] = alpha['theta_y'] - pi/2\n",
        "  \n",
        "  return alpha\n",
        "\n",
        "def W_plus_minus_z(label, alpha):\n",
        "  \n",
        "  if label == '+':\n",
        "    alpha['theta_z'] = alpha['theta_z'] + pi/2\n",
        "  elif label == '-':\n",
        "    alpha['theta_z'] = alpha['theta_z'] - pi/2\n",
        "  \n",
        "  return alpha\n",
        "\n",
        "def W_plus_minus_rzz(label, alpha):\n",
        "  \n",
        "  if label == '+':\n",
        "    alpha['theta_rzz'] = alpha['theta_rzz'] + pi/2\n",
        "  elif label == '-':\n",
        "    alpha['theta_rzz'] = alpha['theta_rzz'] - pi/2\n",
        "  \n",
        "  return alpha\n",
        "\n",
        "def D_plus_minus_1(label, alpha):\n",
        "  \n",
        "  if label == '+':\n",
        "    alpha['gamma_1'] = alpha['gamma_1'] + pi/2\n",
        "  elif label == '-':\n",
        "    alpha['gamma_1'] = alpha['gamma_1'] - pi/2\n",
        "  \n",
        "  return alpha\n",
        "\n",
        "def D_plus_minus_2(label, alpha):\n",
        "  \n",
        "  if label == '+':\n",
        "    alpha['gamma_2'] = alpha['gamma_2'] + pi/2\n",
        "  elif label == '-':\n",
        "    alpha['gamma_2'] = alpha['gamma_2'] - pi/2\n",
        "  \n",
        "  return alpha\n",
        "\n",
        "def D_plus_minus_3(label, alpha):\n",
        "  \n",
        "  if label == '+':\n",
        "    alpha['gamma_3'] = alpha['gamma_3'] + pi/2\n",
        "  elif label == '-':\n",
        "    alpha['gamma_3'] = alpha['gamma_3'] - pi/2\n",
        "  \n",
        "  return alpha"
      ],
      "execution_count": null,
      "outputs": []
    },
    {
      "cell_type": "code",
      "metadata": {
        "id": "gsuzk6BAeBXu"
      },
      "source": [
        "def partial_derv_wrt_theta_x( num_qubits, parameters, alpha):\n",
        "  #####Computing Cost_LHST(U,(W_k+)D(W_dagger))#####\n",
        "  alpha_tmp = copy.deepcopy(alpha)\n",
        "  alpha_tmp = W_plus_minus_x('+', alpha_tmp)\n",
        "  cost_lhst = compute_LHST( num_qubits, parameters, alpha_tmp)\n",
        "\n",
        "  ##### Computing Cost_LHST(U, (W_k-)D(W_dagger)) ######\n",
        "  alpha_tmp = copy.deepcopy(alpha)\n",
        "  alpha_tmp = W_plus_minus_x('-', alpha_tmp)\n",
        "  cost_lhst -= compute_LHST( num_qubits, parameters, alpha_tmp)\n",
        "\n",
        "  ##### Computing Cost_LHST(U, (W)D(W_k+_dagger)) #######\n",
        "  alpha_tmp = copy.deepcopy(alpha)\n",
        "  alpha_tmp = W_plus_minus_x('+', alpha_tmp)\n",
        "  cost_lhst += compute_LHST( num_qubits, parameters, alpha_tmp)\n",
        "\n",
        "  ##### Computing Cost_LHST(U, (W)D(W_k-_dagger)) ########\n",
        "  alpha_tmp = copy.deepcopy(alpha)\n",
        "  alpha_tmp = W_plus_minus_x('-', alpha_tmp)\n",
        "  cost_lhst -= compute_LHST( num_qubits, parameters, alpha_tmp)\n",
        "\n",
        "  part_derv = 0.5*(cost_lhst)\n",
        "\n",
        "  return part_derv"
      ],
      "execution_count": null,
      "outputs": []
    },
    {
      "cell_type": "code",
      "metadata": {
        "id": "ar1EoPT9LSU0"
      },
      "source": [
        "def partial_derv_wrt_theta_y( num_qubits, parameters, alpha):\n",
        "  #####Computing Cost_LHST(U,(W_k+)D(W_dagger))#####\n",
        "  alpha_tmp = copy.deepcopy(alpha)\n",
        "  alpha_tmp = W_plus_minus_y('+', alpha_tmp)\n",
        "  cost_lhst = compute_LHST( num_qubits, parameters, alpha_tmp)\n",
        "\n",
        "  ##### Computing Cost_LHST(U, (W_k-)D(W_dagger)) ######\n",
        "  alpha_tmp = copy.deepcopy(alpha)\n",
        "  alpha_tmp = W_plus_minus_y('-', alpha_tmp)\n",
        "  cost_lhst -= compute_LHST( num_qubits, parameters, alpha_tmp)\n",
        "\n",
        "  ##### Computing Cost_LHST(U, (W)D(W_k+_dagger)) #######\n",
        "  alpha_tmp = copy.deepcopy(alpha)\n",
        "  alpha_tmp = W_plus_minus_y('+', alpha_tmp)\n",
        "  cost_lhst += compute_LHST( num_qubits, parameters, alpha_tmp)\n",
        "\n",
        "  ##### Computing Cost_LHST(U, (W)D(W_k-_dagger)) ########\n",
        "  alpha_tmp = copy.deepcopy(alpha)\n",
        "  alpha_tmp = W_plus_minus_y('-', alpha_tmp)\n",
        "  cost_lhst -= compute_LHST( num_qubits, parameters, alpha_tmp)\n",
        "\n",
        "  part_derv = 0.5*(cost_lhst)\n",
        "\n",
        "  return part_derv"
      ],
      "execution_count": null,
      "outputs": []
    },
    {
      "cell_type": "code",
      "metadata": {
        "id": "vubRrxVqNSKc"
      },
      "source": [
        "def partial_derv_wrt_theta_z( num_qubits, parameters, alpha):\n",
        "  #####Computing Cost_LHST(U,(W_k+)D(W_dagger))#####\n",
        "  alpha_tmp = copy.deepcopy(alpha)\n",
        "  alpha_tmp = W_plus_minus_z('+', alpha_tmp)\n",
        "  cost_lhst = compute_LHST( num_qubits, parameters, alpha_tmp)\n",
        "\n",
        "  ##### Computing Cost_LHST(U, (W_k-)D(W_dagger)) ######\n",
        "  alpha_tmp = copy.deepcopy(alpha)\n",
        "  alpha_tmp = W_plus_minus_z('-', alpha_tmp)\n",
        "  cost_lhst -= compute_LHST( num_qubits, parameters, alpha_tmp)\n",
        "\n",
        "  ##### Computing Cost_LHST(U, (W)D(W_k+_dagger)) #######\n",
        "  alpha_tmp = copy.deepcopy(alpha)\n",
        "  alpha_tmp = W_plus_minus_z('+', alpha_tmp)\n",
        "  cost_lhst += compute_LHST( num_qubits, parameters, alpha_tmp)\n",
        "\n",
        "  ##### Computing Cost_LHST(U, (W)D(W_k-_dagger)) ########\n",
        "  alpha_tmp = copy.deepcopy(alpha)\n",
        "  alpha_tmp = W_plus_minus_z('-', alpha_tmp)\n",
        "  cost_lhst -= compute_LHST( num_qubits, parameters, alpha_tmp)\n",
        "\n",
        "  part_derv = 0.5*(cost_lhst)\n",
        "\n",
        "  return part_derv"
      ],
      "execution_count": null,
      "outputs": []
    },
    {
      "cell_type": "code",
      "metadata": {
        "id": "9Src3OALNXAG"
      },
      "source": [
        "def partial_derv_wrt_theta_rzz( num_qubits, parameters, alpha):\n",
        "  #####Computing Cost_LHST(U,(W_k+)D(W_dagger))#####\n",
        "  alpha_tmp = copy.deepcopy(alpha)\n",
        "  alpha_tmp = W_plus_minus_rzz('+', alpha_tmp)\n",
        "  cost_lhst = compute_LHST( num_qubits, parameters, alpha_tmp)\n",
        "\n",
        "  ##### Computing Cost_LHST(U, (W_k-)D(W_dagger)) ######\n",
        "  alpha_tmp = copy.deepcopy(alpha)\n",
        "  alpha_tmp = W_plus_minus_rzz('-', alpha_tmp)\n",
        "  cost_lhst -= compute_LHST( num_qubits, parameters, alpha_tmp)\n",
        "\n",
        "  ##### Computing Cost_LHST(U, (W)D(W_k+_dagger)) #######\n",
        "  alpha_tmp = copy.deepcopy(alpha)\n",
        "  alpha_tmp = W_plus_minus_rzz('+', alpha_tmp)\n",
        "  cost_lhst += compute_LHST( num_qubits, parameters, alpha_tmp)\n",
        "\n",
        "  ##### Computing Cost_LHST(U, (W)D(W_k-_dagger)) ########\n",
        "  alpha_tmp = copy.deepcopy(alpha)\n",
        "  alpha_tmp = W_plus_minus_rzz('-', alpha_tmp)\n",
        "  cost_lhst -= compute_LHST( num_qubits, parameters, alpha_tmp)\n",
        "\n",
        "  part_derv = 0.5*(cost_lhst)\n",
        "\n",
        "  return part_derv"
      ],
      "execution_count": null,
      "outputs": []
    },
    {
      "cell_type": "code",
      "metadata": {
        "id": "OZQk6RBH-krp"
      },
      "source": [
        "def partial_derv_wrt_gamma_1( num_qubits, parameters, alpha):\n",
        "  ##### Computing Cost_LHST(U, (W)D+(W_dagger)) ########\n",
        "  alpha_tmp = copy.deepcopy(alpha)\n",
        "  alpha_tmp = D_plus_minus_1('+', alpha_tmp)\n",
        "  cost_lhst = compute_LHST( num_qubits, parameters, alpha_tmp)\n",
        "\n",
        "  ##### Computing Cost_LHST(U, (W)D-(W_dagger)) ########\n",
        "  alpha_tmp = copy.deepcopy(alpha)\n",
        "  alpha_tmp = D_plus_minus_1('-', alpha_tmp)\n",
        "  cost_lhst -= compute_LHST(num_qubits, parameters, alpha_tmp)\n",
        "\n",
        "  part_derv = 0.5*(cost_lhst)\n",
        "\n",
        "  return part_derv"
      ],
      "execution_count": null,
      "outputs": []
    },
    {
      "cell_type": "code",
      "metadata": {
        "id": "fEn0sQ98Ngsk"
      },
      "source": [
        "def partial_derv_wrt_gamma_2( num_qubits, parameters, alpha):\n",
        "  ##### Computing Cost_LHST(U, (W)D+(W_dagger)) ########\n",
        "  alpha_tmp = copy.deepcopy(alpha)\n",
        "  alpha_tmp = D_plus_minus_2('+', alpha_tmp)\n",
        "  cost_lhst = compute_LHST( num_qubits, parameters, alpha_tmp)\n",
        "\n",
        "  ##### Computing Cost_LHST(U, (W)D-(W_dagger)) ########\n",
        "  alpha_tmp = copy.deepcopy(alpha)\n",
        "  alpha_tmp = D_plus_minus_2('-', alpha_tmp)\n",
        "  cost_lhst -= compute_LHST(num_qubits, parameters, alpha_tmp)\n",
        "\n",
        "  part_derv = 0.5*(cost_lhst)\n",
        "\n",
        "  return part_derv"
      ],
      "execution_count": null,
      "outputs": []
    },
    {
      "cell_type": "code",
      "metadata": {
        "id": "JXQtiAefPB0I"
      },
      "source": [
        "def partial_derv_wrt_gamma_3( num_qubits, parameters, alpha):\n",
        "  ##### Computing Cost_LHST(U, (W)D+(W_dagger)) ########\n",
        "  alpha_tmp = copy.deepcopy(alpha)\n",
        "  alpha_tmp = D_plus_minus_3('+', alpha_tmp)\n",
        "  cost_lhst = compute_LHST( num_qubits, parameters, alpha_tmp)\n",
        "\n",
        "  ##### Computing Cost_LHST(U, (W)D-(W_dagger)) ########\n",
        "  alpha_tmp = copy.deepcopy(alpha)\n",
        "  alpha_tmp = D_plus_minus_3('-', alpha_tmp)\n",
        "  cost_lhst -= compute_LHST(num_qubits, parameters, alpha_tmp)\n",
        "\n",
        "  part_derv = 0.5*(cost_lhst)\n",
        "\n",
        "  return part_derv"
      ],
      "execution_count": null,
      "outputs": []
    },
    {
      "cell_type": "code",
      "metadata": {
        "id": "hhatu1J40jYi",
        "colab": {
          "base_uri": "https://localhost:8080/",
          "height": 1000
        },
        "outputId": "d7da352f-9d40-40ff-8c58-8005b33aec77"
      },
      "source": [
        "def variational_fast_forwarding(num_qubits, parameters, alpha):\n",
        "  iterations = 1000\n",
        "  learning_rate = 0.01\n",
        "  cost_lhst_delta_t = []\n",
        "  for i in range(iterations):\n",
        "    cost_lhst = compute_LHST( num_qubits, parameters, alpha)\n",
        "    if cost_lhst > c_threshold:\n",
        "      print(\"\\nCost in iteration\" ,i,':',cost_lhst,'\\n')\n",
        "      derv_x = learning_rate*partial_derv_wrt_theta_x( num_qubits, parameters, alpha)\n",
        "      alpha['theta_x'] = alpha['theta_x'] - derv_x\n",
        "      derv_y = learning_rate*partial_derv_wrt_theta_y( num_qubits, parameters, alpha)\n",
        "      alpha['theta_y'] = alpha['theta_y'] - derv_y\n",
        "      derv_z = learning_rate*partial_derv_wrt_theta_z( num_qubits, parameters, alpha)\n",
        "      alpha['theta_z'] = alpha['theta_z'] - derv_z\n",
        "      derv_rzz = learning_rate*partial_derv_wrt_theta_rzz( num_qubits, parameters, alpha)\n",
        "      alpha['theta_rzz'] = alpha['theta_rzz'] - derv_rzz\n",
        "\n",
        "      derv_1 = learning_rate*partial_derv_wrt_gamma_1( num_qubits, parameters, alpha)\n",
        "      alpha['gamma_1'] = alpha['gamma_1'] - derv_1\n",
        "      derv_2 = learning_rate*partial_derv_wrt_gamma_2( num_qubits, parameters, alpha)\n",
        "      alpha['gamma_2'] = alpha['gamma_2'] - derv_2\n",
        "      derv_3 = learning_rate*partial_derv_wrt_gamma_3( num_qubits, parameters, alpha)\n",
        "      alpha['gamma_3'] = alpha['gamma_3'] - derv_3\n",
        "      print('\\nalpha:', alpha,'\\n')\n",
        "      \n",
        "    elif cost_lhst <= c_threshold:\n",
        "      print(\"converged to below threshold\")\n",
        "      return alpha\n",
        "    cost_lhst_delta_t.append(cost_lhst)\n",
        "\n",
        "\n",
        "  return alpha, cost_lhst_delta_t \n",
        "      \n",
        "\n",
        "alpha, cost_lhst_delta_t = variational_fast_forwarding(num_qubits, parameters, alpha)\n"
      ],
      "execution_count": null,
      "outputs": [
        {
          "output_type": "stream",
          "text": [
            "\n",
            "Cost in iteration 0 : 0.7080078125 \n",
            "\n",
            "\n",
            "alpha: {'theta_x': -6.7138671875e-05, 'theta_y': -0.000142822265625, 'theta_z': 2.0751953125e-05, 'theta_rzz': -6.103515625e-05, 'gamma_1': 0.0001904296875, 'gamma_2': -5.37109375e-05, 'gamma_3': 0.00010009765625000001} \n",
            "\n",
            "\n",
            "Cost in iteration 1 : 0.72509765625 \n",
            "\n",
            "\n",
            "alpha: {'theta_x': 0.0001513671875, 'theta_y': -0.0002978515625, 'theta_z': 0.000140380859375, 'theta_rzz': -0.00014160156250000002, 'gamma_1': 3.2958984375e-05, 'gamma_2': -6.4697265625e-05, 'gamma_3': 5.1269531250000005e-05} \n",
            "\n",
            "\n",
            "Cost in iteration 2 : 0.7216796875 \n",
            "\n",
            "\n",
            "alpha: {'theta_x': 0.00014892578125, 'theta_y': -0.0003125, 'theta_z': 0.00027099609374999997, 'theta_rzz': -0.00018310546875000003, 'gamma_1': -0.00020751953125, 'gamma_2': -3.6621093750000005e-05, 'gamma_3': -1.8310546875000003e-05} \n",
            "\n",
            "\n",
            "Cost in iteration 3 : 0.72802734375 \n",
            "\n",
            "\n",
            "alpha: {'theta_x': 4.5166015625e-05, 'theta_y': -0.00032470703125, 'theta_z': 0.00010253906249999996, 'theta_rzz': -0.00017211914062500002, 'gamma_1': -0.000252685546875, 'gamma_2': 0.00010986328124999999, 'gamma_3': 0.0001953125} \n",
            "\n",
            "\n",
            "Cost in iteration 4 : 0.709228515625 \n",
            "\n",
            "\n",
            "alpha: {'theta_x': -2.6855468749999997e-05, 'theta_y': -0.00024169921875, 'theta_z': 0.000372314453125, 'theta_rzz': -0.00023559570312500002, 'gamma_1': -0.00023803710937499997, 'gamma_2': 0.0002734375, 'gamma_3': 1.220703125000001e-05} \n",
            "\n",
            "\n",
            "Cost in iteration 5 : 0.712646484375 \n",
            "\n",
            "\n",
            "alpha: {'theta_x': -0.000179443359375, 'theta_y': -0.00014892578125, 'theta_z': 0.000328369140625, 'theta_rzz': -0.00020019531250000002, 'gamma_1': -7.446289062499996e-05, 'gamma_2': 0.00011352539062500002, 'gamma_3': -0.00010986328124999999} \n",
            "\n",
            "\n",
            "Cost in iteration 6 : 0.730224609375 \n",
            "\n"
          ],
          "name": "stdout"
        },
        {
          "output_type": "error",
          "ename": "KeyboardInterrupt",
          "evalue": "ignored",
          "traceback": [
            "\u001b[0;31m---------------------------------------------------------------------------\u001b[0m",
            "\u001b[0;31mKeyboardInterrupt\u001b[0m                         Traceback (most recent call last)",
            "\u001b[0;32m<ipython-input-147-7ff430879931>\u001b[0m in \u001b[0;36m<module>\u001b[0;34m()\u001b[0m\n\u001b[1;32m     33\u001b[0m \u001b[0;34m\u001b[0m\u001b[0m\n\u001b[1;32m     34\u001b[0m \u001b[0;34m\u001b[0m\u001b[0m\n\u001b[0;32m---> 35\u001b[0;31m \u001b[0malpha\u001b[0m\u001b[0;34m,\u001b[0m \u001b[0mcost_lhst_delta_t\u001b[0m \u001b[0;34m=\u001b[0m \u001b[0mvariational_fast_forwarding\u001b[0m\u001b[0;34m(\u001b[0m\u001b[0mnum_qubits\u001b[0m\u001b[0;34m,\u001b[0m \u001b[0mparameters\u001b[0m\u001b[0;34m,\u001b[0m \u001b[0malpha\u001b[0m\u001b[0;34m)\u001b[0m\u001b[0;34m\u001b[0m\u001b[0;34m\u001b[0m\u001b[0m\n\u001b[0m",
            "\u001b[0;32m<ipython-input-147-7ff430879931>\u001b[0m in \u001b[0;36mvariational_fast_forwarding\u001b[0;34m(num_qubits, parameters, alpha)\u001b[0m\n\u001b[1;32m      7\u001b[0m     \u001b[0;32mif\u001b[0m \u001b[0mcost_lhst\u001b[0m \u001b[0;34m>\u001b[0m \u001b[0mc_threshold\u001b[0m\u001b[0;34m:\u001b[0m\u001b[0;34m\u001b[0m\u001b[0;34m\u001b[0m\u001b[0m\n\u001b[1;32m      8\u001b[0m       \u001b[0mprint\u001b[0m\u001b[0;34m(\u001b[0m\u001b[0;34m\"\\nCost in iteration\"\u001b[0m \u001b[0;34m,\u001b[0m\u001b[0mi\u001b[0m\u001b[0;34m,\u001b[0m\u001b[0;34m':'\u001b[0m\u001b[0;34m,\u001b[0m\u001b[0mcost_lhst\u001b[0m\u001b[0;34m,\u001b[0m\u001b[0;34m'\\n'\u001b[0m\u001b[0;34m)\u001b[0m\u001b[0;34m\u001b[0m\u001b[0;34m\u001b[0m\u001b[0m\n\u001b[0;32m----> 9\u001b[0;31m       \u001b[0mderv_x\u001b[0m \u001b[0;34m=\u001b[0m \u001b[0mlearning_rate\u001b[0m\u001b[0;34m*\u001b[0m\u001b[0mpartial_derv_wrt_theta_x\u001b[0m\u001b[0;34m(\u001b[0m \u001b[0mnum_qubits\u001b[0m\u001b[0;34m,\u001b[0m \u001b[0mparameters\u001b[0m\u001b[0;34m,\u001b[0m \u001b[0malpha\u001b[0m\u001b[0;34m)\u001b[0m\u001b[0;34m\u001b[0m\u001b[0;34m\u001b[0m\u001b[0m\n\u001b[0m\u001b[1;32m     10\u001b[0m       \u001b[0malpha\u001b[0m\u001b[0;34m[\u001b[0m\u001b[0;34m'theta_x'\u001b[0m\u001b[0;34m]\u001b[0m \u001b[0;34m=\u001b[0m \u001b[0malpha\u001b[0m\u001b[0;34m[\u001b[0m\u001b[0;34m'theta_x'\u001b[0m\u001b[0;34m]\u001b[0m \u001b[0;34m-\u001b[0m \u001b[0mderv_x\u001b[0m\u001b[0;34m\u001b[0m\u001b[0;34m\u001b[0m\u001b[0m\n\u001b[1;32m     11\u001b[0m       \u001b[0mderv_y\u001b[0m \u001b[0;34m=\u001b[0m \u001b[0mlearning_rate\u001b[0m\u001b[0;34m*\u001b[0m\u001b[0mpartial_derv_wrt_theta_y\u001b[0m\u001b[0;34m(\u001b[0m \u001b[0mnum_qubits\u001b[0m\u001b[0;34m,\u001b[0m \u001b[0mparameters\u001b[0m\u001b[0;34m,\u001b[0m \u001b[0malpha\u001b[0m\u001b[0;34m)\u001b[0m\u001b[0;34m\u001b[0m\u001b[0;34m\u001b[0m\u001b[0m\n",
            "\u001b[0;32m<ipython-input-140-487b578191ba>\u001b[0m in \u001b[0;36mpartial_derv_wrt_theta_x\u001b[0;34m(num_qubits, parameters, alpha)\u001b[0m\n\u001b[1;32m     18\u001b[0m   \u001b[0malpha_tmp\u001b[0m \u001b[0;34m=\u001b[0m \u001b[0mcopy\u001b[0m\u001b[0;34m.\u001b[0m\u001b[0mdeepcopy\u001b[0m\u001b[0;34m(\u001b[0m\u001b[0malpha\u001b[0m\u001b[0;34m)\u001b[0m\u001b[0;34m\u001b[0m\u001b[0;34m\u001b[0m\u001b[0m\n\u001b[1;32m     19\u001b[0m   \u001b[0malpha_tmp\u001b[0m \u001b[0;34m=\u001b[0m \u001b[0mW_plus_minus_x\u001b[0m\u001b[0;34m(\u001b[0m\u001b[0;34m'-'\u001b[0m\u001b[0;34m,\u001b[0m \u001b[0malpha_tmp\u001b[0m\u001b[0;34m)\u001b[0m\u001b[0;34m\u001b[0m\u001b[0;34m\u001b[0m\u001b[0m\n\u001b[0;32m---> 20\u001b[0;31m   \u001b[0mcost_lhst\u001b[0m \u001b[0;34m-=\u001b[0m \u001b[0mcompute_LHST\u001b[0m\u001b[0;34m(\u001b[0m \u001b[0mnum_qubits\u001b[0m\u001b[0;34m,\u001b[0m \u001b[0mparameters\u001b[0m\u001b[0;34m,\u001b[0m \u001b[0malpha_tmp\u001b[0m\u001b[0;34m)\u001b[0m\u001b[0;34m\u001b[0m\u001b[0;34m\u001b[0m\u001b[0m\n\u001b[0m\u001b[1;32m     21\u001b[0m \u001b[0;34m\u001b[0m\u001b[0m\n\u001b[1;32m     22\u001b[0m   \u001b[0mpart_derv\u001b[0m \u001b[0;34m=\u001b[0m \u001b[0;36m0.5\u001b[0m\u001b[0;34m*\u001b[0m\u001b[0;34m(\u001b[0m\u001b[0mcost_lhst\u001b[0m\u001b[0;34m)\u001b[0m\u001b[0;34m\u001b[0m\u001b[0;34m\u001b[0m\u001b[0m\n",
            "\u001b[0;32m<ipython-input-133-318e74a5ef7f>\u001b[0m in \u001b[0;36mcompute_LHST\u001b[0;34m(num_qubits, parameters, alpha)\u001b[0m\n\u001b[1;32m     18\u001b[0m     \u001b[0mjob\u001b[0m \u001b[0;34m=\u001b[0m \u001b[0mbackend\u001b[0m\u001b[0;34m.\u001b[0m\u001b[0mrun\u001b[0m\u001b[0;34m(\u001b[0m\u001b[0mqobj\u001b[0m\u001b[0;34m)\u001b[0m\u001b[0;34m\u001b[0m\u001b[0;34m\u001b[0m\u001b[0m\n\u001b[1;32m     19\u001b[0m \u001b[0;34m\u001b[0m\u001b[0m\n\u001b[0;32m---> 20\u001b[0;31m     \u001b[0mresult\u001b[0m \u001b[0;34m=\u001b[0m \u001b[0mjob\u001b[0m\u001b[0;34m.\u001b[0m\u001b[0mresult\u001b[0m\u001b[0;34m(\u001b[0m\u001b[0;34m)\u001b[0m\u001b[0;34m\u001b[0m\u001b[0;34m\u001b[0m\u001b[0m\n\u001b[0m\u001b[1;32m     21\u001b[0m     \u001b[0mcounts\u001b[0m \u001b[0;34m=\u001b[0m \u001b[0mresult\u001b[0m\u001b[0;34m.\u001b[0m\u001b[0mget_counts\u001b[0m\u001b[0;34m(\u001b[0m\u001b[0mtemp_circuit\u001b[0m\u001b[0;34m)\u001b[0m\u001b[0;34m\u001b[0m\u001b[0;34m\u001b[0m\u001b[0m\n\u001b[1;32m     22\u001b[0m     \u001b[0mplot_histogram\u001b[0m\u001b[0;34m(\u001b[0m\u001b[0mcounts\u001b[0m\u001b[0;34m)\u001b[0m\u001b[0;34m\u001b[0m\u001b[0;34m\u001b[0m\u001b[0m\n",
            "\u001b[0;32m/usr/local/lib/python3.7/dist-packages/qiskit/providers/aer/aerjob.py\u001b[0m in \u001b[0;36m_wrapper\u001b[0;34m(self, *args, **kwargs)\u001b[0m\n\u001b[1;32m     41\u001b[0m         \u001b[0;32mif\u001b[0m \u001b[0mself\u001b[0m\u001b[0;34m.\u001b[0m\u001b[0m_future\u001b[0m \u001b[0;32mis\u001b[0m \u001b[0;32mNone\u001b[0m\u001b[0;34m:\u001b[0m\u001b[0;34m\u001b[0m\u001b[0;34m\u001b[0m\u001b[0m\n\u001b[1;32m     42\u001b[0m             \u001b[0;32mraise\u001b[0m \u001b[0mJobError\u001b[0m\u001b[0;34m(\u001b[0m\u001b[0;34m\"Job not submitted yet!. You have to .submit() first!\"\u001b[0m\u001b[0;34m)\u001b[0m\u001b[0;34m\u001b[0m\u001b[0;34m\u001b[0m\u001b[0m\n\u001b[0;32m---> 43\u001b[0;31m         \u001b[0;32mreturn\u001b[0m \u001b[0mfunc\u001b[0m\u001b[0;34m(\u001b[0m\u001b[0mself\u001b[0m\u001b[0;34m,\u001b[0m \u001b[0;34m*\u001b[0m\u001b[0margs\u001b[0m\u001b[0;34m,\u001b[0m \u001b[0;34m**\u001b[0m\u001b[0mkwargs\u001b[0m\u001b[0;34m)\u001b[0m\u001b[0;34m\u001b[0m\u001b[0;34m\u001b[0m\u001b[0m\n\u001b[0m\u001b[1;32m     44\u001b[0m     \u001b[0;32mreturn\u001b[0m \u001b[0m_wrapper\u001b[0m\u001b[0;34m\u001b[0m\u001b[0;34m\u001b[0m\u001b[0m\n\u001b[1;32m     45\u001b[0m \u001b[0;34m\u001b[0m\u001b[0m\n",
            "\u001b[0;32m/usr/local/lib/python3.7/dist-packages/qiskit/providers/aer/aerjob.py\u001b[0m in \u001b[0;36mresult\u001b[0;34m(self, timeout)\u001b[0m\n\u001b[1;32m    100\u001b[0m             \u001b[0mconcurrent\u001b[0m\u001b[0;34m.\u001b[0m\u001b[0mfutures\u001b[0m\u001b[0;34m.\u001b[0m\u001b[0mCancelledError\u001b[0m\u001b[0;34m:\u001b[0m \u001b[0;32mif\u001b[0m \u001b[0mjob\u001b[0m \u001b[0mcancelled\u001b[0m \u001b[0mbefore\u001b[0m \u001b[0mcompleted\u001b[0m\u001b[0;34m.\u001b[0m\u001b[0;34m\u001b[0m\u001b[0;34m\u001b[0m\u001b[0m\n\u001b[1;32m    101\u001b[0m         \"\"\"\n\u001b[0;32m--> 102\u001b[0;31m         \u001b[0;32mreturn\u001b[0m \u001b[0mself\u001b[0m\u001b[0;34m.\u001b[0m\u001b[0m_future\u001b[0m\u001b[0;34m.\u001b[0m\u001b[0mresult\u001b[0m\u001b[0;34m(\u001b[0m\u001b[0mtimeout\u001b[0m\u001b[0;34m=\u001b[0m\u001b[0mtimeout\u001b[0m\u001b[0;34m)\u001b[0m\u001b[0;34m\u001b[0m\u001b[0;34m\u001b[0m\u001b[0m\n\u001b[0m\u001b[1;32m    103\u001b[0m \u001b[0;34m\u001b[0m\u001b[0m\n\u001b[1;32m    104\u001b[0m     \u001b[0;34m@\u001b[0m\u001b[0mrequires_submit\u001b[0m\u001b[0;34m\u001b[0m\u001b[0;34m\u001b[0m\u001b[0m\n",
            "\u001b[0;32m/usr/lib/python3.7/concurrent/futures/_base.py\u001b[0m in \u001b[0;36mresult\u001b[0;34m(self, timeout)\u001b[0m\n\u001b[1;32m    428\u001b[0m                 \u001b[0;32mreturn\u001b[0m \u001b[0mself\u001b[0m\u001b[0;34m.\u001b[0m\u001b[0m__get_result\u001b[0m\u001b[0;34m(\u001b[0m\u001b[0;34m)\u001b[0m\u001b[0;34m\u001b[0m\u001b[0;34m\u001b[0m\u001b[0m\n\u001b[1;32m    429\u001b[0m \u001b[0;34m\u001b[0m\u001b[0m\n\u001b[0;32m--> 430\u001b[0;31m             \u001b[0mself\u001b[0m\u001b[0;34m.\u001b[0m\u001b[0m_condition\u001b[0m\u001b[0;34m.\u001b[0m\u001b[0mwait\u001b[0m\u001b[0;34m(\u001b[0m\u001b[0mtimeout\u001b[0m\u001b[0;34m)\u001b[0m\u001b[0;34m\u001b[0m\u001b[0;34m\u001b[0m\u001b[0m\n\u001b[0m\u001b[1;32m    431\u001b[0m \u001b[0;34m\u001b[0m\u001b[0m\n\u001b[1;32m    432\u001b[0m             \u001b[0;32mif\u001b[0m \u001b[0mself\u001b[0m\u001b[0;34m.\u001b[0m\u001b[0m_state\u001b[0m \u001b[0;32min\u001b[0m \u001b[0;34m[\u001b[0m\u001b[0mCANCELLED\u001b[0m\u001b[0;34m,\u001b[0m \u001b[0mCANCELLED_AND_NOTIFIED\u001b[0m\u001b[0;34m]\u001b[0m\u001b[0;34m:\u001b[0m\u001b[0;34m\u001b[0m\u001b[0;34m\u001b[0m\u001b[0m\n",
            "\u001b[0;32m/usr/lib/python3.7/threading.py\u001b[0m in \u001b[0;36mwait\u001b[0;34m(self, timeout)\u001b[0m\n\u001b[1;32m    294\u001b[0m         \u001b[0;32mtry\u001b[0m\u001b[0;34m:\u001b[0m    \u001b[0;31m# restore state no matter what (e.g., KeyboardInterrupt)\u001b[0m\u001b[0;34m\u001b[0m\u001b[0;34m\u001b[0m\u001b[0m\n\u001b[1;32m    295\u001b[0m             \u001b[0;32mif\u001b[0m \u001b[0mtimeout\u001b[0m \u001b[0;32mis\u001b[0m \u001b[0;32mNone\u001b[0m\u001b[0;34m:\u001b[0m\u001b[0;34m\u001b[0m\u001b[0;34m\u001b[0m\u001b[0m\n\u001b[0;32m--> 296\u001b[0;31m                 \u001b[0mwaiter\u001b[0m\u001b[0;34m.\u001b[0m\u001b[0macquire\u001b[0m\u001b[0;34m(\u001b[0m\u001b[0;34m)\u001b[0m\u001b[0;34m\u001b[0m\u001b[0;34m\u001b[0m\u001b[0m\n\u001b[0m\u001b[1;32m    297\u001b[0m                 \u001b[0mgotit\u001b[0m \u001b[0;34m=\u001b[0m \u001b[0;32mTrue\u001b[0m\u001b[0;34m\u001b[0m\u001b[0;34m\u001b[0m\u001b[0m\n\u001b[1;32m    298\u001b[0m             \u001b[0;32melse\u001b[0m\u001b[0;34m:\u001b[0m\u001b[0;34m\u001b[0m\u001b[0;34m\u001b[0m\u001b[0m\n",
            "\u001b[0;31mKeyboardInterrupt\u001b[0m: "
          ]
        }
      ]
    },
    {
      "cell_type": "code",
      "metadata": {
        "colab": {
          "base_uri": "https://localhost:8080/",
          "height": 163
        },
        "id": "UybObkekQEBJ",
        "outputId": "4e6d1cb6-d75d-4f87-cad8-c98ab7c48852"
      },
      "source": [
        "print(cost_lhst_delta_t)"
      ],
      "execution_count": null,
      "outputs": [
        {
          "output_type": "error",
          "ename": "NameError",
          "evalue": "ignored",
          "traceback": [
            "\u001b[0;31m---------------------------------------------------------------------------\u001b[0m",
            "\u001b[0;31mNameError\u001b[0m                                 Traceback (most recent call last)",
            "\u001b[0;32m<ipython-input-36-8c9cafb74673>\u001b[0m in \u001b[0;36m<module>\u001b[0;34m()\u001b[0m\n\u001b[0;32m----> 1\u001b[0;31m \u001b[0mprint\u001b[0m\u001b[0;34m(\u001b[0m\u001b[0mcost_lhst_delta_t\u001b[0m\u001b[0;34m)\u001b[0m\u001b[0;34m\u001b[0m\u001b[0;34m\u001b[0m\u001b[0m\n\u001b[0m",
            "\u001b[0;31mNameError\u001b[0m: name 'cost_lhst_delta_t' is not defined"
          ]
        }
      ]
    },
    {
      "cell_type": "code",
      "metadata": {
        "id": "Df8Qpk7e1f3Y"
      },
      "source": [
        "# #driver programme for n_half \n",
        "# circuit = domain_wall_state(circuit, num_qubits)\n",
        "# circuit = circuit_for_n_half(circuit, 1, 1, num_qubits, 'xxz-chain-potential')\n",
        "# circuit.measure(qreg_q, creg_c)\n",
        "# # circuit.measure(qreg_q[1:10], creg_c[1:10])\n",
        "# circuit.draw('text', scale = 0.25, plot_barriers = False, fold = -1)"
      ],
      "execution_count": null,
      "outputs": []
    },
    {
      "cell_type": "code",
      "metadata": {
        "scrolled": true,
        "id": "SI-F2VQO1f3Z"
      },
      "source": [
        "# %tb\n",
        "# driver programme for magnetization\n",
        "circuit = domain_wall_state(circuit, num_qubits)\n",
        "# circuit = neel_state_preparation(circuit, num_qubits)\n",
        "circuit = circuit_for_magnetization(circuit, 1, 1, num_qubits)\n",
        "circuit.measure(qreg_q[:], creg_c[:])\n",
        "circuit.draw('text', scale = 0.25, plot_barriers = False, fold = -1)"
      ],
      "execution_count": null,
      "outputs": []
    },
    {
      "cell_type": "code",
      "metadata": {
        "id": "Tlyxeuh61f3b"
      },
      "source": [
        "from qiskit import IBMQ\n",
        "from qiskit.providers.ibmq import least_busy\n",
        "shots = 8192\n",
        "\n",
        "# Load local account information\n",
        "IBMQ.load_account()\n",
        "# Get the least busy backend\n",
        "provider = IBMQ.get_provider(hub='ibm-q')\n",
        "# backend = least_busy(provider.backends(filters=lambda x: x.configuration().n_qubits >= 2 \n",
        "#                                        and not x.configuration().simulator \n",
        "#                                        and x.status().operational==True))\n",
        "\n",
        "print(\"least busy backend: \", backend)\n",
        "# Run our circuit\n",
        "t_qc = transpile(circuit, backend, optimization_level=3)\n",
        "qobj = assemble(t_qc, shots = shots)\n",
        "job = backend.run(qobj)"
      ],
      "execution_count": null,
      "outputs": []
    },
    {
      "cell_type": "code",
      "metadata": {
        "id": "m9XqDj571f3c"
      },
      "source": [
        "from qiskit.tools.monitor import job_monitor\n",
        "job_monitor(job)"
      ],
      "execution_count": null,
      "outputs": []
    },
    {
      "cell_type": "code",
      "metadata": {
        "id": "QWYUKxNc1f3c"
      },
      "source": [
        "result = job.result()\n",
        "plot_histogram(result.get_counts(circuit))\n",
        "# print(result.get_counts(circuit))"
      ],
      "execution_count": null,
      "outputs": []
    },
    {
      "cell_type": "code",
      "metadata": {
        "id": "1MkFfTfs1f3d"
      },
      "source": [
        ""
      ],
      "execution_count": null,
      "outputs": []
    }
  ]
}